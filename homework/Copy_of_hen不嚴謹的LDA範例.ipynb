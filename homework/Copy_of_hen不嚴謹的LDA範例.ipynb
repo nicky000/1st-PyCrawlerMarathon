{
  "nbformat": 4,
  "nbformat_minor": 0,
  "metadata": {
    "colab": {
      "name": "Copy of hen不嚴謹的LDA範例.ipynb",
      "provenance": [],
      "collapsed_sections": []
    },
    "kernelspec": {
      "name": "python3",
      "display_name": "Python 3"
    }
  },
  "cells": [
    {
      "cell_type": "code",
      "metadata": {
        "id": "9WC3ElsZYTVC",
        "colab_type": "code",
        "outputId": "e9e18cfb-1d81-4af1-d983-b1b9d5b96bc1",
        "colab": {
          "base_uri": "https://localhost:8080/",
          "height": 339
        }
      },
      "source": [
        "!pip install jieba\n",
        "!pip install gensim"
      ],
      "execution_count": 0,
      "outputs": [
        {
          "output_type": "stream",
          "text": [
            "Requirement already satisfied: jieba in /usr/local/lib/python3.6/dist-packages (0.39)\n",
            "Requirement already satisfied: gensim in /usr/local/lib/python3.6/dist-packages (3.6.0)\n",
            "Requirement already satisfied: six>=1.5.0 in /usr/local/lib/python3.6/dist-packages (from gensim) (1.12.0)\n",
            "Requirement already satisfied: scipy>=0.18.1 in /usr/local/lib/python3.6/dist-packages (from gensim) (1.3.3)\n",
            "Requirement already satisfied: numpy>=1.11.3 in /usr/local/lib/python3.6/dist-packages (from gensim) (1.17.4)\n",
            "Requirement already satisfied: smart-open>=1.2.1 in /usr/local/lib/python3.6/dist-packages (from gensim) (1.9.0)\n",
            "Requirement already satisfied: requests in /usr/local/lib/python3.6/dist-packages (from smart-open>=1.2.1->gensim) (2.21.0)\n",
            "Requirement already satisfied: boto3 in /usr/local/lib/python3.6/dist-packages (from smart-open>=1.2.1->gensim) (1.10.32)\n",
            "Requirement already satisfied: boto>=2.32 in /usr/local/lib/python3.6/dist-packages (from smart-open>=1.2.1->gensim) (2.49.0)\n",
            "Requirement already satisfied: chardet<3.1.0,>=3.0.2 in /usr/local/lib/python3.6/dist-packages (from requests->smart-open>=1.2.1->gensim) (3.0.4)\n",
            "Requirement already satisfied: urllib3<1.25,>=1.21.1 in /usr/local/lib/python3.6/dist-packages (from requests->smart-open>=1.2.1->gensim) (1.24.3)\n",
            "Requirement already satisfied: idna<2.9,>=2.5 in /usr/local/lib/python3.6/dist-packages (from requests->smart-open>=1.2.1->gensim) (2.8)\n",
            "Requirement already satisfied: certifi>=2017.4.17 in /usr/local/lib/python3.6/dist-packages (from requests->smart-open>=1.2.1->gensim) (2019.11.28)\n",
            "Requirement already satisfied: botocore<1.14.0,>=1.13.32 in /usr/local/lib/python3.6/dist-packages (from boto3->smart-open>=1.2.1->gensim) (1.13.32)\n",
            "Requirement already satisfied: jmespath<1.0.0,>=0.7.1 in /usr/local/lib/python3.6/dist-packages (from boto3->smart-open>=1.2.1->gensim) (0.9.4)\n",
            "Requirement already satisfied: s3transfer<0.3.0,>=0.2.0 in /usr/local/lib/python3.6/dist-packages (from boto3->smart-open>=1.2.1->gensim) (0.2.1)\n",
            "Requirement already satisfied: python-dateutil<2.8.1,>=2.1; python_version >= \"2.7\" in /usr/local/lib/python3.6/dist-packages (from botocore<1.14.0,>=1.13.32->boto3->smart-open>=1.2.1->gensim) (2.6.1)\n",
            "Requirement already satisfied: docutils<0.16,>=0.10 in /usr/local/lib/python3.6/dist-packages (from botocore<1.14.0,>=1.13.32->boto3->smart-open>=1.2.1->gensim) (0.15.2)\n"
          ],
          "name": "stdout"
        }
      ]
    },
    {
      "cell_type": "code",
      "metadata": {
        "id": "Z0qeeL5qYk2X",
        "colab_type": "code",
        "outputId": "aa437833-e01c-4653-db2f-68740ca61ea8",
        "colab": {
          "resources": {
            "http://localhost:8080/nbextensions/google.colab/files.js": {
              "data": "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",
              "ok": true,
              "headers": [
                [
                  "content-type",
                  "application/javascript"
                ]
              ],
              "status": 200,
              "status_text": ""
            }
          },
          "base_uri": "https://localhost:8080/",
          "height": 111
        }
      },
      "source": [
        "from google.colab import files\n",
        "files.upload()\n",
        "#上傳文本(要分析的文章)"
      ],
      "execution_count": 0,
      "outputs": [
        {
          "output_type": "display_data",
          "data": {
            "text/html": [
              "\n",
              "     <input type=\"file\" id=\"files-78165954-414f-4998-b377-5877c0cf0d13\" name=\"files[]\" multiple disabled />\n",
              "     <output id=\"result-78165954-414f-4998-b377-5877c0cf0d13\">\n",
              "      Upload widget is only available when the cell has been executed in the\n",
              "      current browser session. Please rerun this cell to enable.\n",
              "      </output>\n",
              "      <script src=\"/nbextensions/google.colab/files.js\"></script> "
            ],
            "text/plain": [
              "<IPython.core.display.HTML object>"
            ]
          },
          "metadata": {
            "tags": []
          }
        },
        {
          "output_type": "stream",
          "text": [
            "Saving 123.txt to 123.txt\n"
          ],
          "name": "stdout"
        },
        {
          "output_type": "execute_result",
          "data": {
            "text/plain": [
              "{'123.txt': b'\\xe9\\x96\\x8b\\xe7\\x99\\xbc\\xe5\\x92\\x8c\\xe5\\xa4\\x96\\xe4\\xbe\\x86\\xe7\\xa8\\xae\\xe7\\x9a\\x84\\xe5\\x85\\xa5\\xe4\\xbe\\xb5\\xef\\xbc\\x8c\\xe5\\xb0\\x8e\\xe8\\x87\\xb4\\xe6\\xba\\xaa\\xe6\\xb5\\x81\\xe5\\x9f\\xa4\\xe5\\xa1\\x98\\xef\\xbc\\x8c\\xe9\\x80\\x90\\xe6\\xbc\\xb8\\xe5\\xa4\\xb1\\xe5\\x8e\\xbb\\xe7\\x9b\\xb8\\xe4\\xbc\\xb4\\xe5\\x8d\\x83\\xe8\\x90\\xac\\xe5\\xb9\\xb4\\xe7\\x9a\\x84\\xe8\\x80\\x81\\xe6\\x9c\\x8b\\xe5\\x8f\\x8b\\xe3\\x80\\x82\\xe5\\xb9\\xb8\\xe5\\xa5\\xbd\\xef\\xbc\\x8c\\xe4\\xb8\\x80\\xe7\\xbe\\xa4\\xe7\\x94\\x9f\\xe6\\x85\\x8b\\xe7\\xbe\\xa9\\xe5\\xa3\\xab\\xe6\\x8c\\xba\\xe8\\xba\\xab\\xe8\\x80\\x8c\\xe5\\x87\\xba\\xef\\xbc\\x8c\\xe4\\xbb\\x96\\xe5\\x80\\x91\\xe4\\xb8\\x8d\\xe6\\xb1\\x82\\xe5\\x9b\\x9e\\xe5\\xa0\\xb1\\xef\\xbc\\x8c\\xe5\\x8f\\xaa\\xe5\\xb8\\x8c\\xe6\\x9c\\x9b\\xe7\\x85\\x9e\\xe4\\xbd\\x8f\\xe9\\x80\\x99\\xe7\\x8f\\xad\\xe5\\x8f\\xb0\\xe7\\x81\\xa3\\xe5\\x8e\\x9f\\xe7\\x94\\x9f\\xe9\\xad\\x9a\\xe9\\xa1\\x9e\\xe7\\x9a\\x84\\xe6\\xbb\\x85\\xe4\\xba\\xa1\\xe5\\xbf\\xab\\xe8\\xbb\\x8a...\\r\\n\\xe3\\x80\\x8e\\xe8\\xa5\\xbf\\xe5\\x8c\\x97\\xe9\\x9b\\xa8\\xe7\\x9b\\xb4\\xe7\\x9b\\xb4\\xe8\\x90\\xbd\\xef\\xbc\\x8c\\xe9\\xaf\\xbd\\xe4\\xbb\\x94\\xe9\\xad\\x9a\\xe5\\x8d\\x9c\\xe5\\xa8\\xb6\\xe6\\x9f\\x90\\xef\\xbc\\x8c\\xe9\\xae\\x95\\xe9\\xae\\x90\\xe5\\x85\\x84\\xe6\\x8b\\x8d\\xe9\\x91\\xbc\\xe9\\xbc\\x93\\xef\\xbc\\x8c\\xe5\\xaa\\x92\\xe4\\xba\\xba\\xe5\\xa9\\x86\\xe4\\xbb\\x94\\xe5\\x9c\\x9f\\xe8\\x99\\xb1\\xe5\\xab\\x82\\xef\\xbc\\x8c\\xe6\\x97\\xa5\\xe9\\xa0\\xad\\xe6\\x9a\\x97\\xe6\\x8f\\xa3\\xe7\\x84\\xa1\\xef\\xbc\\x8c\\xe8\\xb6\\x95\\xe7\\xb7\\x8a\\xe4\\xbe\\x86\\xe7\\x81\\xab\\xe9\\x87\\x91\\xe5\\xa7\\x91\\xef\\xbc\\x8c\\xe5\\x81\\x9a\\xe5\\xa5\\xbd\\xe5\\xbf\\x83\\xe4\\xbe\\x86\\xe7\\x85\\xa7\\xe8\\xb7\\xaf\\xef\\xbc\\x8c\\xe8\\xa5\\xbf\\xe5\\x8c\\x97\\xe9\\x9b\\xa8\\xe7\\x9b\\xb4\\xe7\\x9b\\xb4\\xe8\\x90\\xbd...\\xe3\\x80\\x8f\\xe9\\x80\\x99\\xe6\\x98\\xaf\\xe5\\xa4\\xa7\\xe5\\xae\\xb6\\xe7\\x86\\x9f\\xe6\\x82\\x89\\xe7\\x9a\\x84\\xe5\\x8f\\xb0\\xe7\\x81\\xa3\\xe6\\xb0\\x91\\xe8\\xac\\xa0\\xef\\xbc\\x8c\\xe4\\xbd\\x86\\xe6\\x98\\xaf\\xe6\\xad\\x8c\\xe8\\xa9\\x9e\\xe4\\xb8\\xad\\xe7\\x9a\\x84\\xe9\\xad\\x9a\\xe6\\x97\\x8f\\xef\\xbc\\x8c\\xe4\\xbd\\xa0\\xe7\\x9c\\x8b\\xe9\\x81\\x8e\\xe5\\xb9\\xbe\\xe6\\xa8\\xa3\\xef\\xbc\\x9f\\xe5\\x9b\\xa0\\xe7\\x82\\xba\\xe5\\xb8\\xb8\\xe8\\xa6\\x8b\\xef\\xbc\\x8c\\xe8\\x80\\x8c\\xe8\\xa2\\xab\\xe5\\xaf\\xab\\xe9\\x80\\xb2\\xe6\\xb0\\x91\\xe8\\xac\\xa0\\xef\\xbc\\x8c\\xe4\\xbd\\x86\\xe6\\x98\\xaf\\xe7\\x8f\\xbe\\xe5\\x9c\\xa8\\xef\\xbc\\x8c\\xe7\\x89\\xa0\\xe5\\x80\\x91\\xe5\\xa4\\xa7\\xe5\\xa4\\x9a\\xe5\\xbe\\x9e\\xe5\\x8e\\x9f\\xe5\\xa7\\x8b\\xe6\\xa3\\xb2\\xe5\\x9c\\xb0\\xe4\\xb8\\xad\\xe6\\xb6\\x88\\xe5\\xa4\\xb1...\\r\\n\\xe6\\xba\\xaa\\xe6\\xbe\\x97\\xe3\\x80\\x81\\xe5\\xb1\\xb1\\xe6\\xba\\x9d\\xe3\\x80\\x81\\xe5\\x9f\\xa4\\xe5\\xa1\\x98\\xe3\\x80\\x81\\xe7\\xa8\\xbb\\xe7\\x94\\xb0\\xef\\xbc\\x8c\\xe6\\xb0\\xb4\\xe4\\xb8\\xad\\xe6\\x9c\\x89\\xe9\\xad\\x9a\\xef\\xbc\\x8c\\xe6\\x98\\xaf\\xe5\\xa4\\xa7\\xe5\\xae\\xb6\\xe7\\xbf\\x92\\xe4\\xbb\\xa5\\xe7\\x82\\xba\\xe5\\xb8\\xb8\\xe7\\x9a\\x84\\xe6\\x99\\xaf\\xe8\\xb1\\xa1\\xef\\xbc\\x8c\\xe7\\x8f\\xbe\\xe5\\x9c\\xa8\\xef\\xbc\\x8c\\xe6\\xb0\\xb4\\xe4\\xb8\\xad\\xe6\\x9c\\x89\\xe9\\xad\\x9a\\xe5\\x8f\\xaf\\xe8\\x83\\xbd\\xe6\\x98\\xaf\\xe5\\xa5\\xa2\\xe6\\x9c\\x9b\\xe3\\x80\\x82\\xe6\\x88\\x96\\xe8\\x80\\x85\\xef\\xbc\\x8c\\xe6\\xb0\\xb4\\xe4\\xb8\\xad\\xe6\\x9c\\x89\\xe9\\xad\\x9a\\xef\\xbc\\x8c\\xe5\\x8d\\xbb\\xe4\\xb8\\x8d\\xe6\\x98\\xaf\\xe5\\x8f\\xb0\\xe7\\x81\\xa3\\xe7\\x9a\\x84\\xe5\\x8e\\x9f\\xe7\\x94\\x9f\\xe9\\xad\\x9a\\xe3\\x80\\x82\\r\\n\\xe5\\x8f\\xb0\\xe7\\x81\\xa3\\xe7\\x9a\\x84\\xe7\\xb4\\x94\\xe6\\xb7\\xa1\\xe6\\xb0\\xb4\\xe6\\xb0\\xb4\\xe5\\x9f\\x9f\\xef\\xbc\\x8c\\xe4\\xbd\\x8f\\xe4\\xba\\x8680\\xe5\\xa4\\x9a\\xe7\\xa8\\xae\\xe5\\x8e\\x9f\\xe7\\x94\\x9f\\xe9\\xad\\x9a\\xe9\\xa1\\x9e\\xef\\xbc\\x8c\\xe5\\x9b\\xa0\\xe7\\x82\\xba\\xe5\\x9c\\xb0\\xe7\\x90\\x86\\xe9\\x98\\xbb\\xe9\\x9a\\x94\\xef\\xbc\\x8c\\xe7\\x94\\xa2\\xe7\\x94\\x9f\\xe4\\xba\\x8640\\xe5\\xa4\\x9a\\xe7\\xa8\\xae\\xe7\\x9a\\x84\\xe7\\x89\\xb9\\xe6\\x9c\\x89\\xe7\\xa8\\xae\\xef\\xbc\\x8c\\xe5\\xbb\\xa3\\xe5\\xb8\\x83\\xe5\\x9c\\xa8\\xe6\\xba\\xaa\\xe6\\xb5\\x81\\xe3\\x80\\x81\\xe6\\xb9\\x96\\xe6\\xb3\\x8a\\xe8\\x88\\x87\\xe5\\x9f\\xa4\\xe5\\xa1\\x98\\xe4\\xb8\\xad\\xe3\\x80\\x82\\xe6\\xa3\\xb2\\xe6\\x81\\xaf\\xe5\\x9c\\xa8\\xe4\\xb8\\x8d\\xe5\\x90\\x8c\\xe7\\x92\\xb0\\xe5\\xa2\\x83\\xe7\\x9a\\x84\\xe9\\xad\\x9a\\xef\\xbc\\x8c\\xe5\\x9b\\xa0\\xe7\\x82\\xba\\xe4\\xba\\xba\\xe5\\x80\\x91\\xe7\\x9a\\x84\\xe9\\x9c\\x80\\xe6\\xb1\\x82\\xef\\xbc\\x8c\\xe5\\x90\\x84\\xe8\\x87\\xaa\\xe9\\x9d\\xa2\\xe8\\x87\\xa8\\xe4\\xb8\\x8d\\xe5\\x90\\x8c\\xe7\\x9a\\x84\\xe7\\x94\\x9f\\xe5\\xad\\x98\\xe5\\x8d\\xb1\\xe6\\xa9\\x9f\\xef\\xbc\\x8c\\xe7\\x95\\xb6\\xe4\\xb8\\xad\\xe6\\x9c\\x80\\xe5\\x8d\\xb1\\xe9\\x9a\\xaa\\xe5\\x8d\\xbb\\xe5\\x8f\\x88\\xe6\\x9c\\x80\\xe5\\xb8\\xb8\\xe8\\xa2\\xab\\xe5\\xbf\\xbd\\xe7\\x95\\xa5\\xe7\\x9a\\x84\\xef\\xbc\\x8c\\xe6\\x98\\xaf\\xe7\\x94\\x9f\\xe6\\xb4\\xbb\\xe5\\x9c\\xa8\\xe4\\xbd\\x8e\\xe6\\xb5\\xb7\\xe6\\x8b\\x94\\xe6\\xba\\xaa\\xe6\\xb5\\x81\\xe3\\x80\\x81\\xe5\\x9f\\xa4\\xe5\\xa1\\x98\\xe4\\xb8\\xad\\xe7\\x9a\\x84\\xe5\\xb0\\x8f\\xe5\\x9e\\x8b\\xe9\\xad\\x9a\\xef\\xbc\\x8c\\xe9\\x9d\\x92\\xe9\\xb1\\x82\\xe9\\xad\\x9a\\xe5\\xb0\\xb1\\xe6\\x98\\xaf\\xe5\\x85\\xb6\\xe4\\xb8\\xad\\xe4\\xb9\\x8b\\xe4\\xb8\\x80\\xe3\\x80\\x82\\r\\n\\xe9\\x9d\\x92\\xe9\\xb1\\x82\\xe9\\xad\\x9a\\xef\\xbc\\x8c\\xe4\\xbf\\x97\\xe5\\x90\\x8d\\xe7\\xa8\\xbb\\xe7\\x94\\xb0\\xe9\\xad\\x9a\\xef\\xbc\\x8c\\xe5\\x8e\\x9f\\xe6\\x9c\\xac\\xe6\\x99\\xae\\xe9\\x81\\x8d\\xe5\\xad\\x98\\xe5\\x9c\\xa8\\xe6\\xb0\\xb4\\xe7\\x94\\xb0\\xe5\\x92\\x8c\\xe5\\x9f\\xa4\\xe5\\xa1\\x98\\xe4\\xb8\\xad\\xef\\xbc\\x8c\\xe6\\x97\\xa5\\xe6\\x93\\x9a\\xe6\\x99\\x82\\xe6\\x9c\\x9f\\xef\\xbc\\x8c\\xe6\\x97\\xa5\\xe6\\x9c\\xac\\xe4\\xba\\xba\\xe7\\x82\\xba\\xe4\\xba\\x86\\xe6\\xb6\\x88\\xe6\\xbb\\x85\\xe5\\xad\\x92\\xe5\\xad\\x93\\xe8\\x80\\x8c\\xe5\\xbc\\x95\\xe9\\x80\\xb2\\xe5\\xa4\\xa7\\xe8\\x82\\x9a\\xe9\\xad\\x9a\\xef\\xbc\\x8c\\xe7\\x94\\xb1\\xe6\\x96\\xbc\\xe6\\xa3\\xb2\\xe6\\x81\\xaf\\xe5\\x8d\\x80\\xe4\\xbd\\x8d\\xe7\\x9b\\xb8\\xe5\\x90\\x8c\\xef\\xbc\\x8c\\xe9\\x80\\xa0\\xe6\\x88\\x90\\xe9\\x9d\\x92\\xe9\\xb1\\x82\\xe9\\xad\\x9a\\xe7\\x9a\\x84\\xe6\\xb5\\xa9\\xe5\\x8a\\xab\\xef\\xbc\\x8c\\xe5\\x8a\\xa0\\xe4\\xb8\\x8a\\xe8\\xbe\\xb2\\xe8\\x97\\xa5\\xe4\\xbd\\xbf\\xe7\\x94\\xa8\\xe3\\x80\\x81\\xe4\\xbc\\x91\\xe8\\x80\\x95\\xe3\\x80\\x81\\xe5\\x9f\\xa4\\xe5\\xa1\\x98\\xe6\\xa3\\xb2\\xe5\\x9c\\xb0\\xe7\\xa0\\xb4\\xe5\\xa3\\x9e\\xef\\xbc\\x8c\\xe9\\x9d\\x92\\xe9\\xb1\\x82\\xe9\\xad\\x9a\\xe9\\x80\\x90\\xe6\\xbc\\xb8\\xe5\\x9c\\xa8\\xe9\\x87\\x8e\\xe5\\xa4\\x96\\xe5\\xa4\\xb1\\xe5\\x8e\\xbb\\xe8\\xb9\\xa4\\xe5\\xbd\\xb1\\xe3\\x80\\x82\\r\\n\\xe5\\x8d\\x81\\xe5\\xa4\\x9a\\xe5\\xb9\\xb4\\xe5\\x89\\x8d\\xef\\xbc\\x8c\\xe5\\x8f\\xb0\\xe7\\x81\\xa3\\xe5\\x8e\\x9f\\xe7\\x94\\x9f\\xe9\\xad\\x9a\\xe9\\xa1\\x9e\\xe4\\xbf\\x9d\\xe8\\x82\\xb2\\xe5\\x8d\\x94\\xe6\\x9c\\x83\\xe7\\x99\\xbc\\xe8\\xb5\\xb7\\xe4\\xba\\xba\\xe5\\xad\\xab\\xe4\\xbb\\xb2\\xe5\\xb9\\xb3\\xe8\\x81\\xbd\\xe6\\x9c\\x8b\\xe5\\x8f\\x8b\\xe6\\x8f\\x90\\xe8\\xb5\\xb7\\xe9\\x80\\x99\\xe5\\x80\\x8b\\xe7\\x8f\\xbe\\xe8\\xb1\\xa1\\xef\\xbc\\x8c\\xe6\\xbf\\x80\\xe8\\xb5\\xb7\\xe4\\xbb\\x96\\xe5\\xb0\\x8b\\xe6\\x89\\xbe\\xe9\\x9d\\x92\\xe9\\xb1\\x82\\xe9\\xad\\x9a\\xe7\\x9a\\x84\\xe6\\xb1\\xba\\xe5\\xbf\\x83\\xe3\\x80\\x82\\xe8\\x8a\\xb1\\xe4\\xba\\x86\\xe5\\xb0\\x87\\xe8\\xbf\\x91\\xe4\\xb8\\x80\\xe5\\xb9\\xb4\\xe7\\x9a\\x84\\xe6\\x99\\x82\\xe9\\x96\\x93\\xef\\xbc\\x8c\\xe6\\x9c\\x80\\xe5\\xbe\\x8c\\xe5\\x9c\\xa8\\xe5\\xae\\x9c\\xe8\\x98\\xad\\xe9\\x9b\\x99\\xe9\\x80\\xa3\\xe5\\x9f\\xa4\\xe6\\x89\\xbe\\xe5\\x88\\xb0\\xe9\\x9d\\x92\\xe9\\xb1\\x82\\xe9\\xad\\x9a\\xe3\\x80\\x82\\xe6\\x93\\x94\\xe5\\xbf\\x83\\xe9\\x9d\\x92\\xe9\\xb1\\x82\\xe9\\xad\\x9a\\xe5\\xbe\\x9e\\xe6\\xad\\xa4\\xe7\\xb5\\x95\\xe8\\xb7\\xa1\\xef\\xbc\\x8c\\xe4\\xbb\\x96\\xe6\\x8a\\x8a\\xe5\\xae\\xa2\\xe5\\xbb\\xb3\\xe7\\x87\\x9f\\xe9\\x80\\xa0\\xe6\\x88\\x90\\xe7\\x94\\xa2\\xe6\\x88\\xbf\\xef\\xbc\\x8c\\xe5\\xa4\\x9a\\xe5\\xb9\\xb4\\xe7\\x9a\\x84\\xe9\\xa4\\x8a\\xe9\\xad\\x9a\\xe7\\xb6\\x93\\xe9\\xa9\\x97\\xef\\xbc\\x8c\\xe8\\xae\\x93\\xe4\\xbb\\x96\\xe9\\xa0\\x86\\xe5\\x88\\xa9\\xe7\\xb9\\x81\\xe6\\xae\\x96\\xe5\\x87\\xba\\xe6\\x95\\xb8\\xe4\\xbb\\xa5\\xe8\\x90\\xac\\xe8\\xa8\\x88\\xe7\\x9a\\x84\\xe9\\x9d\\x92\\xe9\\xb1\\x82\\xe9\\xad\\x9a\\xef\\xbc\\x8c\\xe4\\xbb\\x96\\xe4\\xb9\\x9f\\xe6\\x8a\\x8a\\xe5\\xbe\\xa9\\xe8\\x82\\xb2\\xe5\\x87\\xba\\xe4\\xbe\\x86\\xe7\\x9a\\x84\\xe9\\xad\\x9a\\xef\\xbc\\x8c\\xe5\\x85\\x8d\\xe8\\xb2\\xbb\\xe6\\x8f\\x90\\xe4\\xbe\\x9b\\xe7\\xb5\\xa6\\xe9\\xa1\\x98\\xe6\\x84\\x8f\\xe5\\xb9\\xab\\xe5\\xbf\\x99\\xe5\\xbe\\xa9\\xe8\\x82\\xb2\\xe7\\x9a\\x84\\xe4\\xba\\xba\\xef\\xbc\\x8c\\xe4\\xb8\\xa6\\xe4\\xb8\\x94\\xe5\\x9c\\xa8\\xe7\\x9b\\xb8\\xe5\\x90\\x8c\\xe5\\x9c\\xb0\\xe5\\x9f\\x9f\\xe6\\x89\\xbe\\xe5\\x88\\xb0\\xe7\\x9a\\x84\\xe9\\xad\\x9a\\xef\\xbc\\x8c\\xe9\\x9a\\x94\\xe4\\xb8\\x80\\xe6\\xae\\xb5\\xe6\\x99\\x82\\xe9\\x96\\x93\\xe6\\x9c\\x83\\xe5\\x81\\x9a\\xe4\\xba\\xa4\\xe6\\x8f\\x9b\\xef\\xbc\\x8c\\xe9\\x81\\xbf\\xe5\\x85\\x8d\\xe5\\x9f\\xba\\xe5\\x9b\\xa0\\xe7\\xaa\\x84\\xe5\\x8c\\x96\\xe7\\x9a\\x84\\xe5\\x95\\x8f\\xe9\\xa1\\x8c\\xe3\\x80\\x82\\r\\n8\\xe5\\xb9\\xb4\\xe5\\x89\\x8d\\xef\\xbc\\x8c\\xe4\\xbb\\x96\\xe5\\x98\\x97\\xe8\\xa9\\xa6\\xe6\\x8a\\x8a\\xe9\\x9d\\x92\\xe9\\xb1\\x82\\xe9\\xad\\x9a\\xe6\\x94\\xbe\\xe6\\xb5\\x81\\xe5\\x88\\xb0\\xe9\\x81\\xa9\\xe5\\x90\\x88\\xe7\\x89\\xa0\\xe5\\x80\\x91\\xe7\\x9a\\x84\\xe5\\xb0\\x8f\\xe6\\xba\\xaa\\xe6\\xba\\x9d\\xef\\xbc\\x8c\\xe4\\xbd\\x86\\xe6\\x98\\xaf\\xef\\xbc\\x8c\\xe6\\x94\\xbe\\xe7\\x94\\x9f\\xe5\\x8d\\xbb\\xe6\\x88\\x90\\xe4\\xba\\x86\\xe9\\x80\\x81\\xe6\\xad\\xbb\\xe3\\x80\\x82\\xe7\\x95\\xb6\\xe5\\xb9\\xb4\\xe6\\x94\\xbe\\xe6\\xb5\\x81\\xe9\\xad\\x9a\\xe5\\x85\\x92\\xe7\\x9a\\x84\\xe5\\xb0\\x8f\\xe6\\xba\\xaa\\xe6\\xba\\x9d\\xef\\xbc\\x8c\\xe5\\xb7\\xb2\\xe7\\xb6\\x93\\xe8\\xae\\x8a\\xe6\\x88\\x90\\xe4\\xba\\x86\\xe7\\x84\\xa1\\xe7\\x94\\x9f\\xe6\\xa9\\x9f\\xe7\\x9a\\x84\\xe5\\xb7\\xa5\\xe5\\x9c\\xb0\\xe3\\x80\\x82\\xe6\\x82\\xb2\\xe7\\x97\\x9b\\xe7\\x9a\\x84\\xe7\\xb6\\x93\\xe9\\xa9\\x97\\xe8\\xae\\x93\\xe4\\xbb\\x96\\xe5\\xb0\\x8d\\xe6\\x94\\xbe\\xe9\\xa4\\x8a\\xe6\\x9b\\xb4\\xe5\\x8a\\xa0\\xe8\\xac\\xb9\\xe6\\x85\\x8e\\xef\\xbc\\x8c\\xe4\\xbb\\x96\\xe5\\xb8\\x8c\\xe6\\x9c\\x9b\\xe8\\xbe\\x9b\\xe8\\x8b\\xa6\\xe5\\xbe\\xa9\\xe8\\x82\\xb2\\xe5\\x87\\xba\\xe4\\xbe\\x86\\xe7\\x9a\\x84\\xe9\\xad\\x9a\\xef\\xbc\\x8c\\xe8\\x83\\xbd\\xe6\\x9c\\x89\\xe5\\xa5\\xbd\\xe6\\xad\\xb8\\xe5\\xae\\xbf\\xef\\xbc\\x8c\\xe6\\xa0\\xa1\\xe5\\x9c\\x92\\xe8\\xa3\\xa1\\xe7\\x9a\\x84\\xe7\\x94\\x9f\\xe6\\x85\\x8b\\xe6\\xb1\\xa0\\xef\\xbc\\x8c\\xe6\\x88\\x90\\xe7\\x82\\xba\\xe4\\xbb\\x96\\xe7\\x9a\\x84\\xe5\\x8f\\xa6\\xe4\\xb8\\x80\\xe9\\xa0\\x85\\xe5\\x98\\x97\\xe8\\xa9\\xa6\\xe3\\x80\\x82\\r\\n\\xe9\\x9d\\x92\\xe9\\xb1\\x82\\xe9\\xad\\x9a\\xe5\\xa4\\xb1\\xe5\\x8e\\xbb\\xe4\\xba\\x86\\xe5\\x8e\\x9f\\xe5\\xa7\\x8b\\xe6\\xa3\\xb2\\xe5\\x9c\\xb0\\xef\\xbc\\x8c\\xe5\\x8d\\xbb\\xe5\\x9b\\xa0\\xe7\\x82\\xba\\xe4\\xbf\\x9d\\xe8\\x82\\xb2\\xe4\\xba\\xba\\xe5\\xa3\\xab\\xe7\\x9a\\x84\\xe5\\x8a\\xaa\\xe5\\x8a\\x9b\\xef\\xbc\\x8c\\xe5\\x9c\\xa8\\xe6\\xa0\\xa1\\xe5\\x9c\\x92\\xe8\\xa3\\xa1\\xe7\\x9a\\x84\\xe7\\x94\\x9f\\xe6\\x85\\x8b\\xe6\\xb1\\xa0\\xef\\xbc\\x8c\\xe6\\x89\\xbe\\xe5\\x88\\xb0\\xe5\\x8f\\xa6\\xe4\\xb8\\x80\\xe5\\x80\\x8b\\xe5\\xad\\x98\\xe6\\xb4\\xbb\\xe4\\xb8\\x8b\\xe5\\x8e\\xbb\\xe7\\x9a\\x84\\xe6\\xa9\\x9f\\xe6\\x9c\\x83\\xef\\xbc\\x8c\\xe9\\x80\\x99\\xe6\\x98\\xaf\\xe5\\x80\\x8b\\xe6\\x8a\\x98\\xe8\\xa1\\xb7\\xe7\\x9a\\x84\\xe6\\x96\\xb9\\xe5\\xbc\\x8f\\xef\\xbc\\x8c\\xe4\\xb9\\x9f\\xe6\\x98\\xaf\\xe9\\x80\\x99\\xe6\\xb3\\xa2\\xe6\\x90\\xb6\\xe6\\x95\\x91\\xe5\\x8e\\x9f\\xe7\\x94\\x9f\\xe9\\xad\\x9a\\xe8\\xa1\\x8c\\xe5\\x8b\\x95\\xe7\\x9a\\x84\\xe8\\xb5\\xb7\\xe9\\xbb\\x9e\\xe3\\x80\\x82\\r\\n\\xe5\\xad\\xab\\xe4\\xbb\\xb2\\xe5\\xb9\\xb3\\xe7\\x9a\\x84\\xe5\\x8a\\xaa\\xe5\\x8a\\x9b\\xef\\xbc\\x8c\\xe5\\x90\\xb8\\xe5\\xbc\\x95\\xe4\\xba\\x86\\xe4\\xb8\\x8d\\xe5\\xb0\\x91\\xe6\\x9c\\x8b\\xe5\\x8f\\x8b\\xe4\\xbe\\x86\\xe5\\xb9\\xab\\xe5\\xbf\\x99\\xef\\xbc\\x8c\\xe4\\xbb\\x96\\xe5\\x80\\x91\\xe5\\x9c\\xa8\\xe8\\xad\\xb7\\xe9\\xad\\x9a\\xe9\\x81\\x8e\\xe7\\xa8\\x8b\\xe4\\xb8\\xad\\xef\\xbc\\x8c\\xe7\\x9c\\x8b\\xe8\\xa6\\x8b\\xe4\\xba\\x86\\xe6\\x9b\\xb4\\xe5\\xa4\\x9a\\xe5\\x8f\\xb0\\xe7\\x81\\xa3\\xe5\\x8e\\x9f\\xe7\\x94\\x9f\\xe9\\xad\\x9a\\xe7\\x9a\\x84\\xe5\\x9b\\xb0\\xe5\\xa2\\x83\\xe3\\x80\\x82\\r\\n\\xe5\\xad\\xab\\xe4\\xbb\\xb2\\xe5\\xb9\\xb3\\xe5\\x92\\x8c\\xe6\\x9c\\x8b\\xe5\\x8f\\x8b\\xe5\\x80\\x91\\xe5\\xb8\\xb8\\xe5\\x88\\xa9\\xe7\\x94\\xa8\\xe5\\x81\\x87\\xe6\\x97\\xa5\\xe5\\x9b\\x9b\\xe8\\x99\\x95\\xe8\\xb8\\x8f\\xe6\\x9f\\xa5\\xef\\xbc\\x8c\\xe7\\x94\\xb1\\xe6\\x96\\xbc\\xe4\\xbb\\x96\\xe5\\x80\\x91\\xe9\\x83\\xbd\\xe6\\x98\\xaf\\xe9\\x87\\xa3\\xe9\\xad\\x9a\\xe5\\xa5\\xbd\\xe6\\x89\\x8b\\xef\\xbc\\x8c\\xe9\\x87\\xa3\\xe5\\x85\\xb7\\xe5\\xb0\\xb1\\xe6\\x98\\xaf\\xe4\\xbb\\x96\\xe5\\x80\\x91\\xe7\\x9a\\x84\\xe8\\xaa\\xbf\\xe6\\x9f\\xa5\\xe5\\xb7\\xa5\\xe5\\x85\\xb7\\xe3\\x80\\x82\\xe9\\x80\\x99\\xe4\\xb8\\x80\\xe5\\x9b\\x9e\\xe7\\x9a\\x84\\xe8\\xaa\\xbf\\xe6\\x9f\\xa5\\xe7\\xb5\\x90\\xe6\\x9e\\x9c\\xe9\\xa1\\xaf\\xe7\\xa4\\xba\\xef\\xbc\\x8c\\xe6\\xb1\\x90\\xe6\\xad\\xa2\\xe7\\x9a\\x84\\xe5\\x9b\\x9b\\xe8\\x82\\xa1\\xe5\\x9f\\xa4\\xef\\xbc\\x8c\\xe5\\xb7\\xb2\\xe7\\xb6\\x93\\xe6\\x88\\x90\\xe7\\x82\\xba\\xe9\\xb1\\xb8\\xe9\\xad\\x9a\\xe3\\x80\\x81\\xe7\\xa6\\x8f\\xe5\\xa3\\xbd\\xe9\\xad\\x9a\\xe7\\xad\\x89\\xe5\\xa4\\x96\\xe4\\xbe\\x86\\xe7\\xa8\\xae\\xe7\\x9a\\x84\\xe5\\xa4\\xa9\\xe4\\xb8\\x8b\\xe3\\x80\\x82\\xe5\\xa4\\x96\\xe4\\xbe\\x86\\xe7\\xa8\\xae\\xe5\\x85\\xa5\\xe4\\xbe\\xb5\\xe7\\x9a\\x84\\xe5\\x95\\x8f\\xe9\\xa1\\x8c\\xef\\xbc\\x8c\\xe5\\x9c\\xa8\\xe4\\xb8\\x8d\\xe5\\x90\\x8c\\xe7\\x9a\\x84\\xe5\\x9f\\xa4\\xe5\\xa1\\x98\\xef\\xbc\\x8c\\xe6\\x9c\\x89\\xe8\\x91\\x97\\xe4\\xb8\\x8d\\xe5\\x90\\x8c\\xe7\\x9a\\x84\\xe6\\x83\\x85\\xe6\\xb3\\x81\\xe3\\x80\\x82\\xe4\\xbe\\x86\\xe5\\x88\\xb0\\xe4\\xba\\x94\\xe8\\x82\\xa1\\xe5\\xa4\\xa7\\xe5\\x9f\\xa4\\xe8\\xaa\\xbf\\xe6\\x9f\\xa5\\xef\\xbc\\x8c\\xe7\\x94\\xb1\\xe6\\x96\\xbc\\xe6\\xb3\\xb0\\xe5\\x9c\\x8b\\xe9\\xb1\\xa7\\xe7\\x9a\\x84\\xe5\\x85\\xa5\\xe4\\xbe\\xb5\\xef\\xbc\\x8c\\xe5\\x8e\\x9f\\xe7\\x94\\x9f\\xe7\\x9a\\x84\\xe4\\xb8\\x83\\xe6\\x98\\x9f\\xe9\\xb1\\xa7\\xe5\\x92\\x8c\\xe6\\x96\\x91\\xe9\\xb1\\xa7\\xe5\\xb7\\xb2\\xe7\\xb6\\x93\\xe7\\xb5\\x95\\xe8\\xb7\\xa1\\xe3\\x80\\x82\\r\\n\\xe7\\x9b\\xae\\xe5\\x89\\x8d\\xe5\\x9f\\xa4\\xe5\\xa1\\x98\\xe5\\xb8\\xb8\\xe8\\xa6\\x8b\\xe7\\x9a\\x84\\xe5\\xa4\\x96\\xe4\\xbe\\x86\\xe7\\xa8\\xae\\xef\\xbc\\x8c\\xe9\\x99\\xa4\\xe4\\xba\\x86\\xe9\\xb1\\xb8\\xe9\\xad\\x9a\\xe3\\x80\\x81\\xe6\\xb3\\xb0\\xe5\\x9c\\x8b\\xe9\\xb1\\xa7\\xe7\\xad\\x89\\xef\\xbc\\x8c\\xe5\\x9b\\xa0\\xe7\\x82\\xba\\xe9\\xa3\\x9f\\xe7\\x94\\xa8\\xe5\\x83\\xb9\\xe5\\x80\\xbc\\xe8\\x80\\x8c\\xe8\\xa2\\xab\\xe5\\xbc\\x95\\xe9\\x80\\xb2\\xe7\\x9a\\x84\\xe9\\xad\\x9a\\xe7\\xa8\\xae\\xef\\xbc\\x8c\\xe9\\x82\\x84\\xe6\\x9c\\x89\\xe8\\x97\\x8d\\xe5\\xaf\\xb6\\xe7\\x9f\\xb3\\xe3\\x80\\x81\\xe8\\x8a\\xb1\\xe7\\xbe\\x85\\xe6\\xbc\\xa2\\xe7\\xad\\x89\\xe8\\xa7\\x80\\xe8\\xb3\\x9e\\xe9\\xad\\x9a\\xef\\xbc\\x8c\\xe7\\x89\\xa0\\xe5\\x80\\x91\\xe5\\xb0\\x8d\\xe5\\x8e\\x9f\\xe7\\x94\\x9f\\xe9\\xad\\x9a\\xe9\\x80\\xa0\\xe6\\x88\\x90\\xe7\\x9a\\x84\\xe5\\xbc\\xb7\\xe7\\x83\\x88\\xe5\\xa8\\x81\\xe8\\x84\\x85\\xef\\xbc\\x8c\\xe7\\x9b\\xae\\xe5\\x89\\x8d\\xe9\\x82\\x84\\xe6\\x89\\xbe\\xe4\\xb8\\x8d\\xe5\\x87\\xba\\xe5\\xbe\\xb9\\xe5\\xba\\x95\\xe7\\x9a\\x84\\xe8\\xa7\\xa3\\xe6\\xb1\\xba\\xe8\\xbe\\xa6\\xe6\\xb3\\x95\\xef\\xbc\\x8c\\xe6\\x9b\\xb4\\xe8\\xae\\x93\\xe4\\xba\\xba\\xe6\\x93\\x94\\xe5\\xbf\\x83\\xe7\\x9a\\x84\\xe6\\x98\\xaf\\xef\\xbc\\x8c\\xe5\\x9f\\xa4\\xe5\\xa1\\x98\\xe9\\x82\\x84\\xe9\\x9d\\xa2\\xe8\\x87\\xa8\\xe5\\x8f\\xa6\\xe4\\xb8\\x80\\xe5\\x80\\x8b\\xe5\\x9a\\xb4\\xe9\\x87\\x8d\\xe5\\x95\\x8f\\xe9\\xa1\\x8c\\xe3\\x80\\x82\\xe5\\x8f\\xb0\\xe7\\x81\\xa3\\xe5\\x8e\\x9f\\xe7\\x94\\x9f\\xe9\\xad\\x9a\\xe9\\xa1\\x9e\\xe4\\xbf\\x9d\\xe8\\x82\\xb2\\xe5\\x8d\\x94\\xe6\\x9c\\x83\\xe7\\x99\\xbc\\xe8\\xb5\\xb7\\xe4\\xba\\xba\\xe5\\xad\\xab\\xe4\\xbb\\xb2\\xe5\\xb9\\xb3\\xe8\\xaa\\xaa\\xef\\xbc\\x8c\\xe7\\x8f\\xbe\\xe5\\x9c\\xa8\\xe5\\xbe\\x88\\xe5\\xa4\\x9a\\xe5\\x9f\\xa4\\xe5\\xa1\\x98\\xe6\\x98\\xaf\\xe7\\xa7\\x81\\xe4\\xba\\xba\\xe7\\x9a\\x84\\xef\\xbc\\x8c\\xe7\\x82\\xba\\xe4\\xba\\x86\\xe5\\x95\\x86\\xe6\\xa5\\xad\\xe5\\x88\\xa9\\xe7\\x9b\\x8a\\xe8\\xa1\\x8c\\xe7\\x82\\xba\\xe5\\xb0\\xb1\\xe5\\xa1\\xab\\xe6\\x8e\\x89\\xe4\\xba\\x86\\xe3\\x80\\x82\\xe6\\xba\\xaa\\xe6\\xb5\\x81\\xe7\\x94\\x9f\\xe6\\x85\\x8b\\xe7\\x9a\\x84\\xe9\\xad\\x9a\\xe7\\xa8\\xae\\xef\\xbc\\x8c\\xe5\\x8f\\xaf\\xe4\\xbb\\xa5\\xe7\\x94\\xa8\\xe5\\xb0\\x81\\xe6\\xba\\xaa\\xe8\\xad\\xb7\\xe9\\xad\\x9a\\xe7\\x9a\\x84\\xe6\\x96\\xb9\\xe5\\xbc\\x8f\\xe4\\xbe\\x86\\xe4\\xbf\\x9d\\xe8\\xad\\xb7\\xef\\xbc\\x8c\\xe5\\x9f\\xa4\\xe5\\xa1\\x98\\xe7\\x94\\x9f\\xe6\\x85\\x8b\\xe7\\x9a\\x84\\xe9\\xad\\x9a\\xef\\xbc\\x8c\\xe4\\xb8\\x80\\xe6\\x97\\xa6\\xe6\\xb2\\x92\\xe4\\xba\\x86\\xe6\\xa3\\xb2\\xe5\\x9c\\xb0\\xef\\xbc\\x8c\\xe5\\xb0\\xb1\\xe5\\xae\\x8c\\xe5\\x85\\xa8\\xe6\\xb2\\x92\\xe6\\x9c\\x89\\xe6\\xa9\\x9f\\xe6\\x9c\\x83\\xe4\\xba\\x86\\xe3\\x80\\x82\\r\\n\\xe7\\x9c\\xbc\\xe7\\x9c\\x8b\\xe8\\x91\\x97\\xe6\\xa3\\xb2\\xe5\\x9c\\xb0\\xe6\\x83\\xa1\\xe5\\x8c\\x96\\xe7\\x9a\\x84\\xe6\\x83\\x85\\xe6\\xb3\\x81\\xe6\\x97\\xa5\\xe7\\x9b\\x8a\\xe5\\x9a\\xb4\\xe9\\x87\\x8d\\xef\\xbc\\x8c\\xe6\\x94\\xbf\\xe5\\xba\\x9c\\xe5\\x8f\\x88\\xe4\\xb8\\x8d\\xe9\\x87\\x8d\\xe8\\xa6\\x96\\xe5\\x8e\\x9f\\xe7\\x94\\x9f\\xe9\\xad\\x9a\\xe7\\x9a\\x84\\xe5\\x8d\\xb1\\xe6\\xa9\\x9f\\xef\\xbc\\x8c\\xe5\\xad\\xab\\xe4\\xbb\\xb2\\xe5\\xb9\\xb3\\xe5\\x92\\x8c\\xe5\\x90\\x8c\\xe5\\xa5\\xbd\\xe5\\x80\\x91\\xe6\\xb1\\xba\\xe5\\xae\\x9a\\xe7\\xb1\\x8c\\xe7\\xb5\\x84\\xe5\\x8f\\xb0\\xe7\\x81\\xa3\\xe5\\x8e\\x9f\\xe7\\x94\\x9f\\xe9\\xad\\x9a\\xe9\\xa1\\x9e\\xe4\\xbf\\x9d\\xe8\\x82\\xb2\\xe5\\x8d\\x94\\xe6\\x9c\\x83\\xef\\xbc\\x8c\\xe6\\x90\\xb6\\xe6\\x95\\x91\\xe7\\x9b\\xae\\xe6\\xa8\\x99\\xe4\\xbb\\xa5\\xe7\\x9b\\xae\\xe5\\x89\\x8d\\xe6\\x9c\\x80\\xe5\\x8d\\xb1\\xe9\\x9a\\xaa\\xe7\\x9a\\x84\\xe5\\x9f\\xa4\\xe5\\xa1\\x98\\xe9\\xad\\x9a\\xe9\\xa1\\x9e\\xe7\\x82\\xba\\xe4\\xb8\\xbb\\xef\\xbc\\x8c\\xe4\\xb8\\x80\\xe6\\x97\\xa6\\xe7\\x99\\xbc\\xe7\\x8f\\xbe\\xe6\\xa3\\xb2\\xe5\\x9c\\xb0\\xe6\\x9c\\x89\\xe5\\x8d\\xb1\\xe6\\xa9\\x9f\\xef\\xbc\\x8c\\xe5\\xb0\\xb1\\xe8\\xb6\\x95\\xe5\\xbf\\xab\\xe6\\x8a\\x8a\\xe9\\xad\\x9a\\xe6\\x95\\x91\\xe5\\x87\\xba\\xe4\\xbe\\x86\\xef\\xbc\\x8c\\xe6\\x98\\x93\\xe5\\x9c\\xb0\\xe4\\xbf\\x9d\\xe7\\xa8\\xae\\xef\\xbc\\x8c\\xe7\\xad\\x89\\xe5\\xbe\\x85\\xe6\\xa9\\x9f\\xe6\\x9c\\x83\\xe8\\xae\\x93\\xe9\\xad\\x9a\\xe9\\x87\\x8d\\xe8\\xbf\\x94\\xe5\\x8e\\x9f\\xe5\\xa7\\x8b\\xe6\\xa3\\xb2\\xe5\\x9c\\xb0\\xe3\\x80\\x82\\xe4\\xbb\\x96\\xe5\\x80\\x91\\xe5\\x9c\\xa8\\xe5\\x8f\\xb0\\xe5\\x8c\\x97\\xe7\\xb8\\xa3\\xe7\\x9a\\x84\\xe8\\xa3\\x95\\xe6\\xb0\\x91\\xe5\\x9c\\x8b\\xe5\\xb0\\x8f\\xe4\\xb8\\xad\\xef\\xbc\\x8c\\xe5\\xbb\\xba\\xe7\\xab\\x8b\\xe4\\xba\\x86\\xe4\\xb8\\x80\\xe5\\x80\\x8b\\xe8\\xa4\\x87\\xe5\\x90\\x88\\xe5\\x8a\\x9f\\xe8\\x83\\xbd\\xe7\\x9a\\x84\\xe6\\xb0\\xb4\\xe7\\x94\\x9f\\xe8\\xb5\\xb0\\xe5\\xbb\\x8a\\xef\\xbc\\x8c\\xe9\\x99\\xa4\\xe4\\xba\\x86\\xe4\\xbf\\x9d\\xe7\\xa8\\xae\\xef\\xbc\\x8c\\xe4\\xb9\\x9f\\xe6\\x98\\xaf\\xe6\\x95\\x99\\xe8\\x82\\xb2\\xe7\\xa9\\xba\\xe9\\x96\\x93\\xe3\\x80\\x82\\r\\n\\xe5\\x9c\\xa8\\xe9\\x80\\x99\\xe8\\xa3\\xa1\\xef\\xbc\\x8c\\xe4\\xb8\\x80\\xe5\\x80\\x8b\\xe9\\xad\\x9a\\xe7\\xbc\\xb8\\xe6\\x98\\xaf\\xe4\\xb8\\x80\\xe5\\x80\\x8b\\xe5\\xb8\\x8c\\xe6\\x9c\\x9b\\xef\\xbc\\x8c\\xe4\\xb8\\x80\\xe7\\xa8\\xae\\xe9\\xad\\x9a\\xe4\\xb9\\x9f\\xe6\\x98\\xaf\\xe4\\xb8\\x80\\xe5\\x80\\x8b\\xe8\\xa8\\x98\\xe6\\x86\\xb6\\xef\\xbc\\x8c\\xe4\\xbf\\x97\\xe7\\xa8\\xb1\\xe9\\xae\\x95\\xe9\\xae\\x98\\xe7\\x9a\\x84\\xe4\\xb8\\x83\\xe6\\x98\\x9f\\xe9\\xb1\\xa7\\xe5\\xb0\\xb1\\xe6\\x9c\\x89\\xe8\\x91\\x97\\xe5\\xb1\\xac\\xe6\\x96\\xbc\\xe7\\x89\\xa0\\xe7\\x9a\\x84\\xe5\\xb0\\x8f\\xe6\\x95\\x85\\xe4\\xba\\x8b\\xe3\\x80\\x82\\xe5\\x8f\\xb0\\xe7\\x81\\xa3\\xe5\\x8e\\x9f\\xe7\\x94\\x9f\\xe9\\xad\\x9a\\xe9\\xa1\\x9e\\xe4\\xbf\\x9d\\xe8\\x82\\xb2\\xe5\\x8d\\x94\\xe6\\x9c\\x83\\xe7\\x99\\xbc\\xe8\\xb5\\xb7\\xe4\\xba\\xba\\xe4\\xb9\\x8b\\xe4\\xb8\\x80\\xef\\xbc\\x8c\\xe5\\x90\\x8c\\xe6\\x99\\x82\\xe4\\xb9\\x9f\\xe6\\x98\\xaf\\xe8\\xa3\\x95\\xe6\\xb0\\x91\\xe5\\x9c\\x8b\\xe5\\xb0\\x8f\\xe7\\x9a\\x84\\xe8\\x80\\x81\\xe5\\xb8\\xab\\xe9\\x8d\\xbe\\xe5\\xae\\xb8\\xe7\\x91\\x9e\\xe8\\xaa\\xaa\\xef\\xbc\\x8c\\xe6\\x9c\\x89\\xe4\\xb8\\x80\\xe6\\xac\\xa1\\xe5\\x9c\\x9f\\xe5\\x9c\\xb0\\xe5\\x85\\xac\\xe5\\xa4\\x96\\xe5\\x87\\xba\\xe5\\xb7\\xa1\\xe8\\xa6\\x96\\xe5\\x8d\\xbb\\xe8\\xbf\\xb7\\xe8\\xb7\\xaf\\xe4\\xba\\x86\\xef\\xbc\\x8c\\xe5\\xbe\\x8c\\xe4\\xbe\\x86\\xe9\\xae\\x95\\xe9\\xae\\x98\\xe5\\xb0\\xb1\\xe6\\x8a\\x8a\\xe5\\x9c\\x9f\\xe5\\x9c\\xb0\\xe5\\x85\\xac\\xe5\\xb8\\xb6\\xe5\\x9b\\x9e\\xe5\\x9c\\x9f\\xe5\\x9c\\xb0\\xe5\\x85\\xac\\xe5\\xbb\\x9f\\xef\\xbc\\x8c\\xe5\\x9c\\x9f\\xe5\\x9c\\xb0\\xe5\\x85\\xac\\xe7\\x82\\xba\\xe4\\xba\\x86\\xe8\\xae\\x93\\xe5\\xbe\\x8c\\xe4\\xbb\\xa3\\xe5\\xad\\x90\\xe5\\xad\\xab\\xe9\\x83\\xbd\\xe8\\xa8\\x98\\xe5\\xbe\\x97\\xe7\\x89\\xa0\\xe7\\x9a\\x84\\xe5\\x8a\\x9f\\xe5\\x8b\\x9e\\xef\\xbc\\x8c\\xe5\\xb0\\xb1\\xe5\\x9c\\xa8\\xe7\\x89\\xa0\\xe7\\x9a\\x84\\xe5\\xb0\\xbe\\xe5\\xb7\\xb4\\xe4\\xb8\\x8a\\xef\\xbc\\x8c\\xe8\\x93\\x8b\\xe4\\xba\\x86\\xe9\\xbb\\x91\\xe9\\xbb\\x91\\xe7\\x9a\\x84\\xe5\\x9c\\x93\\xe5\\x8d\\xb0\\xef\\xbc\\x8c\\xe6\\x88\\x90\\xe7\\x82\\xba\\xe4\\xb8\\x83\\xe6\\x98\\x9f\\xe9\\xb1\\xa7\\xe7\\x9a\\x84\\xe4\\xb8\\x80\\xe5\\xa4\\xa7\\xe7\\x89\\xb9\\xe5\\xbe\\xb5\\xe3\\x80\\x82\\r\\n\\xe6\\xb0\\xb4\\xe7\\x94\\x9f\\xe8\\xb5\\xb0\\xe5\\xbb\\x8a\\xe7\\x9a\\x84\\xe7\\xa9\\xba\\xe9\\x96\\x93\\xe6\\x9c\\x89\\xe9\\x99\\x90\\xef\\xbc\\x8c\\xe9\\x9c\\x80\\xe8\\xa6\\x81\\xe6\\x90\\xb6\\xe6\\x95\\x91\\xe5\\x92\\x8c\\xe5\\xbe\\xa9\\xe8\\x82\\xb2\\xe7\\x9a\\x84\\xe9\\xad\\x9a\\xe5\\x8d\\xbb\\xe6\\x98\\xaf\\xe8\\xb6\\x8a\\xe4\\xbe\\x86\\xe8\\xb6\\x8a\\xe5\\xa4\\x9a\\xef\\xbc\\x8c\\xe4\\xbb\\x96\\xe5\\x80\\x91\\xe9\\x9c\\x80\\xe8\\xa6\\x81\\xe6\\x9b\\xb4\\xe5\\xa4\\xa7\\xe7\\x9a\\x84\\xe4\\xbf\\x9d\\xe7\\xa8\\xae\\xe5\\xa0\\xb4\\xe3\\x80\\x82\\xe5\\xae\\xb6\\xe5\\x9c\\xa8\\xe8\\x8b\\x97\\xe6\\xa0\\x97\\xe7\\x9a\\x84\\xe5\\x8a\\x89\\xe6\\xad\\xa3\\xe5\\xba\\xb7\\xef\\xbc\\x8c\\xe7\\x95\\xb6\\xe5\\x88\\x9d\\xe5\\x9b\\xa0\\xe7\\x82\\xba\\xe9\\xa4\\x8a\\xe8\\x93\\x8b\\xe6\\x96\\x91\\xe9\\xac\\xa5\\xe9\\xad\\x9a\\xe8\\x80\\x8c\\xe7\\xb5\\x90\\xe8\\xad\\x98\\xe4\\xba\\x86\\xe9\\x8d\\xbe\\xe8\\x80\\x81\\xe5\\xb8\\xab\\xef\\xbc\\x8c\\xe4\\xbb\\x96\\xe5\\xb8\\x8c\\xe6\\x9c\\x9b\\xe8\\x83\\xbd\\xe7\\x82\\xba\\xe4\\xbf\\x9d\\xe7\\xa8\\xae\\xe7\\x9b\\xa1\\xe4\\xb8\\x80\\xe4\\xbb\\xbd\\xe5\\xbf\\x83\\xe5\\x8a\\x9b\\xef\\xbc\\x8c\\xe4\\xb8\\x8d\\xe4\\xbd\\x86\\xe6\\x8f\\x90\\xe4\\xbe\\x9b\\xe5\\x9c\\x9f\\xe5\\x9c\\xb0\\xe4\\xbe\\x86\\xe4\\xbd\\x9c\\xe4\\xbf\\x9d\\xe7\\xa8\\xae\\xe5\\xa0\\xb4\\xef\\xbc\\x8c\\xe9\\x82\\x84\\xe8\\xa6\\xaa\\xe8\\x87\\xaa\\xe6\\x96\\xbd\\xe5\\xb7\\xa5\\xef\\xbc\\x8c\\xe4\\xb8\\x80\\xe5\\x88\\x87\\xe8\\xb2\\xbb\\xe7\\x94\\xa8\\xe9\\x83\\xbd\\xe8\\x87\\xaa\\xe6\\x8e\\x8f\\xe8\\x85\\xb0\\xe5\\x8c\\x85\\xef\\xbc\\x8c\\xe7\\xb4\\xb0\\xe5\\xbf\\x83\\xe7\\x87\\x9f\\xe9\\x80\\xa0\\xe6\\x8e\\xa5\\xe8\\xbf\\x91\\xe8\\x87\\xaa\\xe7\\x84\\xb6\\xe7\\x9a\\x84\\xe7\\x92\\xb0\\xe5\\xa2\\x83\\xef\\xbc\\x8c\\xe6\\x88\\xb6\\xe5\\xa4\\x96\\xe7\\x9a\\x84\\xe4\\xbf\\x9d\\xe7\\xa8\\xae\\xe6\\xb1\\xa0\\xef\\xbc\\x8c\\xe7\\xa8\\xae\\xe6\\xbb\\xbf\\xe5\\x8e\\x9f\\xe7\\x94\\x9f\\xe7\\x9a\\x84\\xe6\\xb0\\xb4\\xe8\\x8d\\x89\\xef\\xbc\\x8c\\xe5\\xb8\\x8c\\xe6\\x9c\\x9b\\xe9\\xad\\x9a\\xe5\\x8f\\xaf\\xe4\\xbb\\xa5\\xe7\\x94\\x9f\\xe6\\xb4\\xbb\\xe7\\x9a\\x84\\xe8\\x87\\xaa\\xe5\\x9c\\xa8\\xe5\\x81\\xa5\\xe5\\xba\\xb7\\xe3\\x80\\x82\\xe7\\x8f\\xbe\\xe5\\x9c\\xa8\\xe9\\x80\\x99\\xe8\\xa3\\xa1\\xe4\\xbd\\x8f\\xe4\\xba\\x86\\xe8\\x93\\x8b\\xe6\\x96\\x91\\xe9\\xac\\xa5\\xe9\\xad\\x9a\\xe3\\x80\\x81\\xe9\\x9d\\x92\\xe9\\xb1\\x82\\xe9\\xad\\x9a\\xe5\\x92\\x8c\\xe5\\x8e\\x9f\\xe6\\xa3\\xb2\\xe5\\x9c\\xb0\\xe5\\x9c\\xa8\\xe9\\x9b\\x99\\xe6\\xba\\xaa\\xe7\\x9a\\x84\\xe8\\x8f\\x8a\\xe6\\xb1\\xa0\\xe6\\xb0\\x8f\\xe7\\xb4\\xb0\\xe9\\xaf\\xbd\\xe3\\x80\\x82\\r\\n\\xe5\\x8f\\xb0\\xe7\\x81\\xa3\\xe5\\x8e\\x9f\\xe7\\x94\\x9f\\xe9\\xad\\x9a\\xe9\\xa1\\x9e\\xe4\\xbf\\x9d\\xe8\\x82\\xb2\\xe5\\x8d\\x94\\xe6\\x9c\\x83\\xe7\\x9a\\x84\\xe6\\x9c\\x83\\xe5\\x93\\xa1\\xe5\\x80\\x91\\xef\\xbc\\x8c\\xe6\\x9c\\x89\\xe7\\x9a\\x84\\xe6\\x93\\x85\\xe9\\x95\\xb7\\xe9\\x87\\xa3\\xe9\\xad\\x9a\\xef\\xbc\\x8c\\xe6\\x9c\\x89\\xe7\\x9a\\x84\\xe6\\x93\\x85\\xe9\\x95\\xb7\\xe6\\x95\\x99\\xe8\\x82\\xb2\\xe8\\xa7\\xa3\\xe8\\xaa\\xaa\\xef\\xbc\\x8c\\xe6\\x9c\\x89\\xe7\\x9a\\x84\\xe9\\xa4\\x8a\\xe9\\xad\\x9a\\xe5\\x8a\\x9f\\xe5\\x8a\\x9b\\xe4\\xb8\\x80\\xe6\\xb5\\x81\\xef\\xbc\\x8c\\xe4\\xbb\\x96\\xe5\\x80\\x91\\xe5\\x90\\x84\\xe8\\x87\\xaa\\xe7\\x99\\xbc\\xe6\\x8f\\xae\\xe6\\x89\\x80\\xe9\\x95\\xb7\\xef\\xbc\\x8c\\xe6\\x9c\\xac\\xe8\\x91\\x97\\xe6\\xbf\\x9f\\xe5\\xbc\\xb1\\xe6\\x89\\xb6\\xe5\\x82\\xbe\\xe7\\x9a\\x84\\xe8\\x83\\xb8\\xe6\\x87\\xb7\\xef\\xbc\\x8c\\xe5\\xbe\\x9e\\xe9\\x87\\xa3\\xe5\\xae\\xa2\\xe8\\xae\\x8a\\xe6\\x88\\x90\\xe9\\xad\\x9a\\xe7\\x95\\x8c\\xe7\\x9a\\x84\\xe4\\xbf\\xa0\\xe5\\xae\\xa2\\xef\\xbc\\x8c\\xe5\\xa4\\x9a\\xe5\\xb9\\xb4\\xe7\\xb7\\xb4\\xe5\\xb0\\xb1\\xe7\\x9a\\x84\\xe5\\x8a\\x9f\\xe5\\x8a\\x9b\\xef\\xbc\\x8c\\xe9\\x83\\xbd\\xe6\\x88\\x90\\xe4\\xba\\x86\\xe5\\xb9\\xab\\xe5\\x8a\\xa9\\xe5\\x8e\\x9f\\xe7\\x94\\x9f\\xe9\\xad\\x9a\\xe7\\x9a\\x84\\xe5\\xbe\\x8c\\xe7\\x9b\\xbe\\xe3\\x80\\x82\\xe9\\x8d\\xbe\\xe5\\xae\\xb8\\xe7\\x91\\x9e\\xe8\\x80\\x81\\xe5\\xb8\\xab\\xe8\\xaa\\xaa\\xef\\xbc\\x8c\\xe4\\xbf\\x9d\\xe7\\xa8\\xae\\xe5\\xbe\\xa9\\xe8\\x82\\xb2\\xe6\\x98\\xaf\\xe4\\xb8\\x8d\\xe5\\xbe\\x97\\xe5\\xb7\\xb2\\xe7\\x9a\\x84\\xe6\\x89\\x8b\\xe6\\xae\\xb5\\xef\\xbc\\x8c\\xe6\\x9c\\x80\\xe9\\x87\\x8d\\xe8\\xa6\\x81\\xe6\\x98\\xaf\\xe4\\xbf\\x9d\\xe8\\xad\\xb7\\xe7\\x89\\xa0\\xe5\\x8e\\x9f\\xe6\\x9c\\x89\\xe7\\x9a\\x84\\xe6\\xa3\\xb2\\xe5\\x9c\\xb0\\xef\\xbc\\x8c\\xe5\\xa6\\x82\\xe6\\x9e\\x9c\\xe5\\xa4\\xa7\\xe5\\xae\\xb6\\xe9\\x83\\xbd\\xe8\\x83\\xbd\\xe5\\x81\\x9a\\xe5\\x88\\xb0\\xef\\xbc\\x8c\\xe9\\x82\\xa3\\xe4\\xb9\\x9f\\xe4\\xb8\\x8d\\xe9\\x9c\\x80\\xe8\\xa6\\x81\\xe5\\x81\\x9a\\xe9\\x80\\x99\\xe5\\xbe\\xa9\\xe8\\x82\\xb2\\xe7\\x9a\\x84\\xe5\\x8b\\x95\\xe4\\xbd\\x9c\\xe4\\xba\\x86\\xe3\\x80\\x82\\r\\n\\xe5\\x9b\\x9e\\xe5\\xae\\xb6\\xef\\xbc\\x8c\\xe5\\x8e\\x9f\\xe6\\x9c\\xac\\xe6\\x98\\xaf\\xe5\\x86\\x8d\\xe8\\x87\\xaa\\xe7\\x84\\xb6\\xe4\\xb8\\x8d\\xe9\\x81\\x8e\\xe7\\x9a\\x84\\xe4\\xba\\x8b\\xef\\xbc\\x8c\\xe5\\x8f\\xaf\\xe6\\x83\\x9c\\xef\\xbc\\x8c\\xe5\\xb0\\x8d\\xe9\\x80\\x99\\xe4\\xba\\x9b\\xe6\\xa3\\xb2\\xe5\\x9c\\xb0\\xe9\\x81\\xad\\xe5\\x88\\xb0\\xe7\\xa0\\xb4\\xe5\\xa3\\x9e\\xe7\\x9a\\x84\\xe9\\xad\\x9a\\xe4\\xbe\\x86\\xe8\\xaa\\xaa\\xef\\xbc\\x8c\\xe5\\xae\\xb6\\xef\\xbc\\x8c\\xe6\\x98\\xaf\\xe6\\x9a\\xab\\xe6\\x99\\x82\\xe5\\x9b\\x9e\\xe4\\xb8\\x8d\\xe5\\x8e\\xbb\\xe4\\xba\\x86\\xe3\\x80\\x82\\xe4\\xb8\\x8d\\xe9\\x81\\x8e\\xe4\\xbb\\x8a\\xe5\\xb9\\xb4\\xe7\\xa7\\x8b\\xe5\\xa4\\xa9\\xef\\xbc\\x8c\\xe6\\x9c\\x89\\xe5\\xb0\\x91\\xe9\\x83\\xa8\\xe5\\x88\\x86\\xe7\\x9a\\x84\\xe5\\xb9\\xb8\\xe9\\x81\\x8b\\xe5\\x85\\x92\\xef\\xbc\\x8c\\xe5\\x9c\\xa8\\xe5\\x8f\\xa6\\xe4\\xb8\\x80\\xe7\\xbe\\xa4\\xe4\\xba\\xba\\xe7\\x9a\\x84\\xe5\\xb9\\xab\\xe5\\x8a\\xa9\\xe4\\xb8\\x8b\\xef\\xbc\\x8c\\xe7\\xb5\\x90\\xe6\\x9d\\x9f\\xe4\\xba\\x86\\xe6\\xb5\\x81\\xe8\\x90\\xbd\\xe4\\xbb\\x96\\xe9\\x84\\x89\\xe7\\x9a\\x84\\xe6\\x97\\xa5\\xe5\\xad\\x90\\xe3\\x80\\x82\\r\\n\\xe9\\x80\\x99\\xe8\\xa3\\xa1\\xe6\\x98\\xaf\\xe5\\x8f\\xb0\\xe4\\xb8\\xad\\xe7\\xb8\\xa3\\xe6\\x96\\xb0\\xe7\\xa4\\xbe\\xe9\\x84\\x89\\xef\\xbc\\x8c\\xe7\\x82\\xba\\xe4\\xba\\x86\\xe8\\xa7\\xa3\\xe6\\xb1\\xba\\xe6\\xb0\\xb4\\xe6\\x82\\xa3\\xe5\\x95\\x8f\\xe9\\xa1\\x8c\\xef\\xbc\\x8c\\xe6\\x94\\xbf\\xe5\\xba\\x9c\\xe6\\xb2\\xbf\\xe6\\xba\\xaa\\xe9\\x80\\xb2\\xe8\\xa1\\x8c\\xe4\\xba\\x86\\xe4\\xb8\\x80\\xe9\\x80\\xa3\\xe4\\xb8\\xb2\\xe6\\x95\\xb4\\xe6\\xb2\\xbb\\xe5\\xb7\\xa5\\xe7\\xa8\\x8b\\xef\\xbc\\x8c\\xe6\\xa3\\xb2\\xe5\\x9c\\xb0\\xe7\\xa0\\xb4\\xe5\\xa3\\x9e\\xef\\xbc\\x8c\\xe9\\xad\\x9a\\xe8\\x9d\\xa6\\xe9\\x99\\xb8\\xe7\\xba\\x8c\\xe5\\xa4\\xb1\\xe5\\x8e\\xbb\\xe8\\xb9\\xa4\\xe5\\xbd\\xb1\\xef\\xbc\\x8c\\xe9\\xa3\\x9f\\xe6\\xb0\\xb4\\xe5\\xb5\\x99\\xe6\\xba\\xaa\\xe6\\x88\\x90\\xe4\\xba\\x86\\xe5\\xaf\\x82\\xe5\\xaf\\x9e\\xe6\\xba\\xaa\\xe6\\xb5\\x81\\xef\\xbc\\x8c\\xe5\\xb0\\x81\\xe6\\xba\\xaa\\xe8\\xad\\xb7\\xe6\\xbc\\x81\\xe7\\x9a\\x84\\xe5\\x91\\x8a\\xe7\\xa4\\xba\\xe7\\x89\\x8c\\xef\\xbc\\x8c\\xe4\\xb9\\x9f\\xe6\\x88\\x90\\xe7\\x82\\xba\\xe4\\xb8\\x80\\xe9\\xa0\\x85\\xe5\\xa4\\xa7\\xe8\\xab\\xb7\\xe5\\x88\\xba\\xe3\\x80\\x82\\xe9\\xa3\\x9f\\xe6\\xb0\\xb4\\xe5\\xb5\\x99\\xe6\\xba\\xaa\\xe6\\x98\\xaf\\xe7\\x80\\x95\\xe8\\x87\\xa8\\xe6\\xbb\\x85\\xe7\\xb5\\x95\\xe7\\x9a\\x84\\xe5\\x8f\\xb0\\xe7\\x81\\xa3\\xe7\\x99\\xbd\\xe9\\xad\\x9a\\xef\\xbc\\x8c\\xe6\\x97\\x8f\\xe7\\xbe\\xa4\\xe6\\x95\\xb8\\xe9\\x87\\x8f\\xe6\\x9c\\x80\\xe5\\xa4\\x9a\\xe7\\x9a\\x84\\xe4\\xb8\\x80\\xe5\\x80\\x8b\\xe5\\x8e\\x9f\\xe5\\xa7\\x8b\\xe6\\xa3\\xb2\\xe5\\x9c\\xb0\\xe3\\x80\\x82\\xe4\\xbd\\x86\\xe6\\x98\\xaf\\xe5\\xb7\\xa5\\xe7\\xa8\\x8b\\xe7\\xaf\\x80\\xe7\\xaf\\x80\\xe9\\x80\\xb2\\xe9\\x80\\xbc\\xef\\xbc\\x8c\\xe6\\x93\\x94\\xe5\\xbf\\x83\\xe7\\x99\\xbd\\xe9\\xad\\x9a\\xe5\\x80\\x91\\xe5\\xb0\\x8f\\xe5\\x91\\xbd\\xe4\\xb8\\x8d\\xe4\\xbf\\x9d\\xef\\xbc\\x8c2008\\xe5\\xb9\\xb4\\xe6\\x98\\xa5\\xe5\\xa4\\xa9\\xef\\xbc\\x8c\\xe5\\xa4\\xa7\\xe7\\x94\\xb2\\xe6\\xba\\xaa\\xe7\\x94\\x9f\\xe6\\x85\\x8b\\xe5\\x8d\\x94\\xe6\\x9c\\x83\\xe5\\x92\\x8c\\xe7\\x99\\xbd\\xe5\\x86\\xb7\\xe5\\x9c\\xb3\\xe7\\xa4\\xbe\\xe9\\x80\\xa0\\xe4\\xbf\\x83\\xe9\\x80\\xb2\\xe6\\x9c\\x83\\xe7\\x99\\xbc\\xe8\\xb5\\xb7\\xe6\\x90\\xb6\\xe6\\x95\\x91\\xe8\\xa1\\x8c\\xe5\\x8b\\x95\\xef\\xbc\\x8c\\xe5\\xb8\\xb6\\xe9\\xa0\\x98\\xe6\\x96\\xb0\\xe7\\xa4\\xbe\\xe5\\x9c\\x8b\\xe5\\xb0\\x8f\\xe7\\x9a\\x84\\xe5\\xb0\\x8f\\xe6\\x9c\\x8b\\xe5\\x8f\\x8b\\xe5\\xb9\\xab\\xe7\\x99\\xbd\\xe9\\xad\\x9a\\xe6\\x90\\xac\\xe5\\xae\\xb6\\xef\\xbc\\x8c\\xe9\\x80\\x81\\xe5\\xbe\\x80\\xe9\\x99\\x84\\xe8\\xbf\\x91\\xe7\\x9a\\x84\\xe6\\xba\\xbc\\xe5\\x9c\\xb0\\xe5\\xba\\x87\\xe8\\xad\\xb7\\xe7\\xab\\x99\\xe3\\x80\\x82\\r\\n\\xe5\\x85\\xa9\\xe5\\xb9\\xb4\\xe9\\x81\\x8e\\xe5\\x8e\\xbb\\xef\\xbc\\x8c\\xe7\\x95\\xb6\\xe5\\x88\\x9d\\xe6\\x90\\xb6\\xe6\\x95\\x91\\xe7\\x9a\\x84\\xe7\\x99\\xbd\\xe9\\xad\\x9a\\xe7\\xb9\\x81\\xe6\\xae\\x96\\xe5\\x87\\xba\\xe4\\xb8\\x80\\xe5\\x8d\\x83\\xe5\\xa4\\x9a\\xe9\\x9a\\xbb\\xe7\\x9a\\x84\\xe5\\xbe\\x8c\\xe4\\xbb\\xa3\\xef\\xbc\\x8c\\xe7\\x94\\xb1\\xe6\\x96\\xbc\\xe4\\xb8\\x8a\\xe6\\xb8\\xb8\\xe9\\x83\\xa8\\xe5\\x88\\x86\\xe6\\xa3\\xb2\\xe5\\x9c\\xb0\\xe9\\x82\\x84\\xe6\\xb2\\x92\\xe6\\x9c\\x89\\xe9\\x81\\xad\\xe5\\x88\\xb0\\xe5\\xb7\\xa5\\xe7\\xa8\\x8b\\xe7\\xa0\\xb4\\xe5\\xa3\\x9e\\xef\\xbc\\x8c\\xe4\\xbb\\x96\\xe5\\x80\\x91\\xe6\\xb1\\xba\\xe5\\xae\\x9a\\xe6\\x8a\\x8a\\xe9\\x83\\xa8\\xe5\\x88\\x86\\xe7\\x9a\\x84\\xe7\\x99\\xbd\\xe9\\xad\\x9a\\xe6\\x94\\xbe\\xe5\\x9b\\x9e\\xe4\\xbe\\x86\\xe3\\x80\\x82\\xe7\\x89\\xb9\\xe7\\x94\\x9f\\xe4\\xb8\\xad\\xe5\\xbf\\x83\\xe5\\x8b\\x95\\xe7\\x89\\xa9\\xe7\\xb5\\x84\\xe5\\x8a\\xa9\\xe7\\x90\\x86\\xe7\\xa0\\x94\\xe7\\xa9\\xb6\\xe5\\x93\\xa1\\xe6\\x9d\\x8e\\xe5\\xbe\\xb7\\xe6\\x97\\xba\\xe8\\xa1\\xa8\\xe7\\xa4\\xba\\xef\\xbc\\x8c\\xe8\\x83\\xbd\\xe5\\x9c\\xa8\\xe5\\x8e\\x9f\\xe4\\xbe\\x86\\xe5\\x9c\\xb0\\xe6\\x96\\xb9\\xe8\\x87\\xaa\\xe7\\x84\\xb6\\xe7\\xb9\\x81\\xe8\\xa1\\x8d\\xe6\\x89\\x8d\\xe6\\x98\\xaf\\xe6\\x9c\\x80\\xe5\\xa5\\xbd\\xe7\\x9a\\x84\\xe3\\x80\\x82\\r\\n\\xe7\\x80\\x95\\xe8\\x87\\xa8\\xe6\\xbb\\x85\\xe7\\xb5\\x95\\xe7\\x9a\\x84\\xe7\\x99\\xbd\\xe9\\xad\\x9a\\xe9\\x9b\\x96\\xe7\\x84\\xb6\\xe5\\x9c\\xa8\\xe5\\x8e\\xbb\\xe5\\xb9\\xb4\\xe8\\xa2\\xab\\xe5\\x88\\x97\\xe5\\x85\\xa5\\xe4\\xba\\x8c\\xe7\\xb4\\x9a\\xe4\\xbf\\x9d\\xe8\\x82\\xb2\\xef\\xbc\\x8c\\xe8\\xab\\xb7\\xe5\\x88\\xba\\xe7\\x9a\\x84\\xe6\\x98\\xaf\\xef\\xbc\\x8c\\xe6\\x94\\xbf\\xe5\\xba\\x9c\\xe5\\xb0\\x8d\\xe7\\x89\\xa0\\xe5\\x83\\x85\\xe5\\xad\\x98\\xe7\\x9a\\x84\\xe6\\xa3\\xb2\\xe5\\x9c\\xb0\\xef\\xbc\\x8c\\xe5\\x8d\\xbb\\xe6\\xb2\\x92\\xe6\\x9c\\x89\\xe4\\xbb\\xbb\\xe4\\xbd\\x95\\xe4\\xbf\\x9d\\xe8\\xad\\xb7\\xe6\\x8e\\xaa\\xe6\\x96\\xbd\\xef\\xbc\\x8c\\xe8\\x80\\x8c\\xe9\\x80\\x99\\xe4\\xb9\\x9f\\xe6\\x98\\xaf\\xe5\\xa4\\xa7\\xe5\\xa4\\x9a\\xe6\\x95\\xb8\\xe4\\xbf\\x9d\\xe8\\x82\\xb2\\xe9\\xad\\x9a\\xe9\\xa1\\x9e\\xe7\\x9a\\x84\\xe5\\x85\\xb1\\xe5\\x90\\x8c\\xe5\\x95\\x8f\\xe9\\xa1\\x8c\\xe3\\x80\\x82\\xe5\\x8f\\xb0\\xe7\\x81\\xa3\\xe5\\x8e\\x9f\\xe7\\x94\\x9f\\xe9\\xad\\x9a\\xe9\\xa1\\x9e\\xe4\\xbf\\x9d\\xe8\\x82\\xb2\\xe6\\x9c\\x83\\xe7\\x99\\xbc\\xe8\\xb5\\xb7\\xe4\\xba\\xba\\xe5\\xbc\\xb5\\xe5\\x85\\x83\\xe5\\xae\\x8f\\xe8\\xaa\\xaa\\xef\\xbc\\x8c\\xe9\\xad\\x9a\\xe9\\xa1\\x9e\\xe5\\x88\\x97\\xe5\\x85\\xa5\\xe4\\xbf\\x9d\\xe8\\x82\\xb2\\xe4\\xb9\\x8b\\xe5\\xbe\\x8c\\xef\\xbc\\x8c\\xe9\\x80\\x99\\xe4\\xba\\x9b\\xe6\\xa3\\xb2\\xe5\\x9c\\xb0\\xe6\\x94\\xbf\\xe5\\xba\\x9c\\xe5\\x8d\\xbb\\xe6\\xb2\\x92\\xe6\\x9c\\x89\\xe5\\xae\\x8c\\xe6\\x95\\xb4\\xe7\\x9a\\x84\\xe9\\x85\\x8d\\xe5\\xa5\\x97\\xe6\\x8e\\xaa\\xe6\\x96\\xbd\\xe5\\x8e\\xbb\\xe8\\xa6\\x8f\\xe5\\x8a\\x83\\xe7\\xae\\xa1\\xe7\\x90\\x86\\xef\\xbc\\x8c\\xe6\\xb0\\x91\\xe7\\x9c\\xbe\\xe9\\x83\\xbd\\xe6\\x9c\\x83\\xe8\\xa6\\xba\\xe5\\xbe\\x97\\xe7\\x89\\xa9\\xe4\\xbb\\xa5\\xe7\\xa8\\x80\\xe7\\x82\\xba\\xe8\\xb2\\xb4\\xef\\xbc\\x8c\\xe8\\xb7\\x91\\xe5\\x88\\xb0\\xe9\\x80\\x99\\xe4\\xba\\x9b\\xe6\\xa3\\xb2\\xe5\\x9c\\xb0\\xe5\\x8e\\xbb\\xe5\\x81\\x9a\\xe6\\x8e\\xa1\\xe9\\x9b\\x86\\xef\\xbc\\x8c\\xe5\\x8f\\x8d\\xe8\\x80\\x8c\\xe9\\x80\\xa0\\xe6\\x88\\x90\\xe4\\xbf\\x9d\\xe8\\x82\\xb2\\xe9\\xa1\\x9e\\xe6\\x97\\x8f\\xe7\\xbe\\xa4\\xe7\\x9a\\x84\\xe6\\xb8\\x9b\\xe5\\xb0\\x91\\xef\\xbc\\x8c\\xe7\\x8f\\xbe\\xe5\\x9c\\xa8\\xe9\\x83\\xbd\\xe6\\x98\\xaf\\xe6\\xb0\\x91\\xe9\\x96\\x93\\xe5\\x9c\\x98\\xe9\\xab\\x94\\xe5\\x9c\\xa8\\xe5\\x87\\xba\\xe9\\x8c\\xa2\\xe5\\x87\\xba\\xe5\\x8a\\x9b\\xef\\xbc\\x8c\\xe5\\xb8\\x8c\\xe6\\x9c\\x9b\\xe6\\x94\\xbf\\xe5\\xba\\x9c\\xe8\\x83\\xbd\\xe5\\xa6\\xa5\\xe5\\x96\\x84\\xe4\\xbf\\x9d\\xe8\\xad\\xb7\\xe6\\xa3\\xb2\\xe5\\x9c\\xb0\\xef\\xbc\\x8c\\xe9\\x80\\x99\\xe6\\x89\\x8d\\xe6\\x98\\xaf\\xe7\\x9c\\x9f\\xe6\\xad\\xa3\\xe7\\x9a\\x84\\xe8\\xa7\\xa3\\xe6\\xb1\\xba\\xe6\\x96\\xb9\\xe6\\xb3\\x95\\xe3\\x80\\x82\\r\\n\\xe4\\xbb\\x8a\\xe5\\xb9\\xb4\\xef\\xbc\\x8c\\xe7\\x99\\xbd\\xe9\\xad\\x9a\\xe5\\x9b\\x9e\\xe5\\xae\\xb6\\xe4\\xba\\x86\\xef\\xbc\\x8c\\xe5\\x85\\xb6\\xe4\\xbb\\x96\\xe7\\x9a\\x84\\xe5\\x8e\\x9f\\xe7\\x94\\x9f\\xe9\\xad\\x9a\\xef\\xbc\\x8c\\xe4\\xbb\\x80\\xe9\\xba\\xbc\\xe6\\x99\\x82\\xe5\\x80\\x99\\xe6\\x89\\x8d\\xe8\\x83\\xbd\\xe5\\x9b\\x9e\\xe5\\xae\\xb6\\xe5\\x91\\xa2\\xef\\xbc\\x9f\\xe9\\x9b\\xa2\\xe9\\x84\\x89\\xe8\\x83\\x8c\\xe4\\xba\\x95\\xe6\\x98\\xaf\\xe4\\xb8\\x8d\\xe5\\xbe\\x97\\xe5\\xb7\\xb2\\xe7\\x9a\\x84\\xe5\\x81\\x9a\\xe6\\xb3\\x95\\xef\\xbc\\x8c\\xe7\\x84\\xa1\\xe5\\xae\\xb6\\xe5\\x8f\\xaf\\xe6\\xad\\xb8\\xe6\\x89\\x8d\\xe6\\x98\\xaf\\xe6\\x9c\\x80\\xe5\\xa4\\xa7\\xe7\\x9a\\x84\\xe6\\x82\\xb2\\xe5\\x93\\x80\\xe3\\x80\\x82\\xe6\\xa3\\xb2\\xe5\\x9c\\xb0\\xe4\\xbf\\x9d\\xe8\\xad\\xb7\\xe6\\x98\\xaf\\xe7\\x92\\xb0\\xe5\\xa2\\x83\\xe7\\x94\\x9f\\xe6\\x85\\x8b\\xe7\\x9a\\x84\\xe5\\x9f\\xba\\xe7\\xa4\\x8e\\xef\\xbc\\x8c\\xe9\\x9b\\x96\\xe7\\x84\\xb6\\xe6\\xb0\\x91\\xe9\\x96\\x93\\xe5\\x9c\\x98\\xe9\\xab\\x94\\xe7\\xa9\\x8d\\xe6\\xa5\\xb5\\xe6\\x90\\xb6\\xe6\\x95\\x91\\xe4\\xbf\\x9d\\xe7\\xa8\\xae\\xef\\xbc\\x8c\\xe5\\xa6\\x82\\xe6\\x9e\\x9c\\xe7\\x9b\\xb8\\xe9\\x97\\x9c\\xe5\\x96\\xae\\xe4\\xbd\\x8d\\xe5\\x86\\x8d\\xe4\\xb8\\x8d\\xe9\\x87\\x8d\\xe8\\xa6\\x96\\xef\\xbc\\x8c\\xe5\\x8f\\xaa\\xe6\\x80\\x95\\xe6\\x9b\\xbe\\xe7\\xb6\\x93\\xe6\\x93\\x81\\xe6\\x8a\\xb1\\xe8\\x91\\x97\\xe7\\x89\\xa0\\xe5\\x80\\x91\\xe7\\x9a\\x84\\xe6\\xba\\xaa\\xe6\\xb5\\x81\\xe5\\x9f\\xa4\\xe5\\xa1\\x98\\xef\\xbc\\x8c\\xe5\\xb0\\x87\\xe6\\x9c\\x83\\xe6\\xb0\\xb8\\xe9\\x81\\xa0\\xe5\\xa4\\xb1\\xe5\\x8e\\xbb\\xe9\\x80\\x99\\xe7\\xbe\\xa4\\xe7\\x9b\\xb8\\xe4\\xbc\\xb4\\xe5\\x8d\\x83\\xe5\\xb9\\xb4\\xe7\\x9a\\x84\\xe8\\x80\\x81\\xe6\\x9c\\x8b\\xe5\\x8f\\x8b\\xe3\\x80\\x82\\r\\n\\r\\n'}"
            ]
          },
          "metadata": {
            "tags": []
          },
          "execution_count": 85
        }
      ]
    },
    {
      "cell_type": "code",
      "metadata": {
        "id": "Sj7A-4-NZATM",
        "colab_type": "code",
        "outputId": "2469cf3e-d0dd-4326-e6ad-cb0ef41675e3",
        "colab": {
          "resources": {
            "http://localhost:8080/nbextensions/google.colab/files.js": {
              "data": "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",
              "ok": true,
              "headers": [
                [
                  "content-type",
                  "application/javascript"
                ]
              ],
              "status": 200,
              "status_text": ""
            }
          },
          "base_uri": "https://localhost:8080/",
          "height": 91
        }
      },
      "source": [
        "files.upload()\n",
        "#上傳stopwords"
      ],
      "execution_count": 0,
      "outputs": [
        {
          "output_type": "display_data",
          "data": {
            "text/html": [
              "\n",
              "     <input type=\"file\" id=\"files-47d4191b-174c-493b-be47-4ac2ae4288b7\" name=\"files[]\" multiple disabled />\n",
              "     <output id=\"result-47d4191b-174c-493b-be47-4ac2ae4288b7\">\n",
              "      Upload widget is only available when the cell has been executed in the\n",
              "      current browser session. Please rerun this cell to enable.\n",
              "      </output>\n",
              "      <script src=\"/nbextensions/google.colab/files.js\"></script> "
            ],
            "text/plain": [
              "<IPython.core.display.HTML object>"
            ]
          },
          "metadata": {
            "tags": []
          }
        },
        {
          "output_type": "stream",
          "text": [
            "Saving 文本2.txt to 文本2 (3).txt\n"
          ],
          "name": "stdout"
        },
        {
          "output_type": "execute_result",
          "data": {
            "text/plain": [
              "{'文本2.txt': b'\\xef\\xbb\\xbf'}"
            ]
          },
          "metadata": {
            "tags": []
          },
          "execution_count": 87
        }
      ]
    },
    {
      "cell_type": "code",
      "metadata": {
        "id": "R4vv3OrxsbMF",
        "colab_type": "code",
        "outputId": "e75506e5-6ddb-4e71-cedb-fbf29b9dfb7d",
        "colab": {
          "base_uri": "https://localhost:8080/",
          "height": 70
        }
      },
      "source": [
        "import jieba\n",
        "\n",
        "train = []\n",
        "stopwords = open('stopwords.txt','r',encoding='utf8').read()\n",
        "fp = open('123.txt','r',encoding='utf8')\n",
        "for line in fp:\n",
        "  seg=jieba.cut_for_search(line)\n",
        "  train.append([ w for w in seg if len(w)>1 and w not in stopwords ])\n",
        "print(train)\n",
        "print(len(train))"
      ],
      "execution_count": 0,
      "outputs": [
        {
          "output_type": "stream",
          "text": [
            "[['開發', '外來種', '入侵', '導致', '溪流', '埤塘', '逐漸', '失去', '相伴', '千萬年', '朋友', '老朋友', '幸好', '一群', '生態', '義士', '挺身', '挺身而出', '他們', '不求', '回報', '希望', '煞住', '這班', '台灣', '原生', '魚類', '滅亡', '快車', '...'], ['西北', '雨直', '直落', '仔魚', '媒人', '媒人婆', '仔土', '虱嫂', '日頭', '趕緊', '火金姑', '做好', '心來', '照路', '西北', '雨直', '直落', '...', '這是', '大家', '熟悉', '台灣民謠', '但是', '歌詞', '魚族', '看過', '幾樣', '因為', '常見', '進民謠', '但是', '現在', '大多', '原始', '棲地', '消失', '...'], ['溪澗', '山溝', '埤塘', '稻田', '水中', '有魚', '大家', '習以', '景象', '現在', '水中', '有魚', '可能', '奢望', '或者', '水中', '有魚', '不是', '台灣', '原生'], ['台灣', '淡水', '水域', '80', '多種', '原生', '魚類', '因為', '地理', '阻隔', '產生', '40', '多種', '特有', '廣布', '溪流', '湖泊', '棲息', '不同', '環境', '的魚', '因為', '人們', '需求', '各自', '面臨', '不同', '生存', '危機', '當中', '危險', '最常', '忽略', '生活', '海拔', '溪流', '埤塘', '小型', '就是', '其中', '之一'], ['俗名', '稻田', '原本', '普遍', '存在', '普遍存在', '水田', '日據', '時期', '日本', '人為', '消滅', '大肚', '棲息', '區位', '相同', '造成', '魚的', '浩劫', '加上', '農藥', '使用', '休耕', '埤塘棲地', '破壞', '魚逐漸', '野外', '失去'], ['十多', '多年', '十多年', '台灣', '原生', '魚類', '保育', '協會', '發起', '孫仲平', '朋友', '提起', '這個', '現象', '激起', '尋找', '魚的', '決心', '將近', '一年', '時間', '最後在', '宜蘭', '雙連', '找到', '擔心青', '魚從', '絕跡', '客廳營', '造成', '產房', '多年', '養魚', '經驗', '順利', '繁殖', '出數', '以萬計', '育出', '來的魚', '免費', '提供', '給願意', '幫忙', '並且', '相同', '地域', '找到', '的魚', '一段', '時間', '交換', '避免', '基因', '窄化', '問題'], ['年前', '他嘗試', '放流', '適合', '小溪', '但是', '放生', '卻成', '送死', '當年', '放流', '魚兒', '小溪', '已經', '變成', '無生機', '工地', '悲痛', '經驗', '放養', '更加', '謹慎', '希望', '辛苦', '育出', '來的魚', '歸宿', '校園裡', '生態', '成為', '一項', '嘗試'], ['失去', '原始', '棲地', '因為', '保育', '人士', '努力', '在校', '園裡', '生態', '找到', '一個', '存活', '下去', '機會', '這是', '折衷', '方式', '這波', '原生', '魚行動', '起點'], ['孫仲平', '努力', '吸引', '不少', '朋友', '幫忙', '他們', '護魚', '過程', '看見', '多台', '原生', '魚的', '困境'], ['平和', '仲平和', '朋友', '利用', '假日', '四處', '踏查', '他們', '釣魚', '好手', '釣具', '就是', '他們', '調查', '工具', '一回', '調查', '結果', '顯示', '汐止', '四股', '已經成', '鱸魚', '福壽魚', '外來種', '天下', '外來種', '入侵', '問題', '不同', '有著', '不同', '情況', '五股', '調查', '泰國', '入侵', '原生', '七星', '斑鱧', '已經', '絕跡'], ['目前', '埤塘常見', '外來種', '除了', '鱸魚', '泰國', '因為', '食用', '價值', '引進', '魚種', '還有', '藍寶石', '花羅漢', '觀賞魚', '原生', '造成', '強烈', '威脅', '目前', '不出', '找不出', '徹底', '解決', '辦法', '擔心', '埤塘', '還面', '一個', '嚴重', '問題', '台灣', '原生', '魚類', '保育', '協會', '發起', '孫仲平', '現在', '很多', '埤塘', '私人', '商業', '利益', '行為', '填掉', '溪流', '生態', '魚種', '可以', '封溪護魚', '方式', '保護', '埤塘', '生態', '的魚', '一旦', '棲地', '完全', '沒有', '機會'], ['眼看', '著棲地', '惡化', '情況', '日益', '嚴重', '政府', '重視', '原生', '魚的', '危機', '平和', '仲平和', '同好', '同好們', '決定', '籌組', '台灣', '原生', '魚類', '保育', '協會', '搶救', '目標', '目前', '危險', '埤塘', '魚類', '一旦', '發現', '棲地', '危機', '趕快', '把魚', '救出', '易地', '保種', '等待', '機會', '讓魚', '重返', '原始', '棲地', '他們', '台北', '裕民', '國小中', '建立', '一個', '功能', '水生', '走廊', '除了', '保種', '教育', '空間'], ['這裡', '一個', '魚缸', '一個', '希望', '一種魚', '一個', '記憶', '七星', '著屬', '故事', '台灣', '原生', '魚類', '保育', '協會', '發起', '之一', '同時', '裕民', '國小', '老師', '瑞說', '一次', '土地', '土地公', '出巡', '迷路', '土地', '土地公', '帶回', '土地', '土地公', '土地', '土地公', '代子', '孫都', '記得', '功勞', '尾巴', '黑黑', '黑黑的', '圓印', '成為', '七星', '一大', '特徵'], ['水生', '走廊', '空間', '有限', '需要', '搶救', '魚卻', '越來', '他們', '需要', '更大', '保種場', '苗栗', '劉正康', '當初', '因為', '養蓋', '斑鬥魚', '結識', '老師', '希望', '能為', '保種', '一份', '心力', '不但', '提供', '土地', '作保', '種場', '還親', '施工', '一切', '費用', '腰包', '掏腰包', '自掏腰包', '細心', '營造', '接近', '自然', '環境', '戶外', '保種', '種滿', '原生', '水草', '希望', '可以', '生活', '健康', '現在', '這裡', '斑鬥魚', '魚和原', '棲地', '雙溪', '菊池', '氏細'], ['台灣', '原生', '魚類', '保育', '協會', '會員們', '擅長', '釣魚', '擅長', '教育', '解說', '養魚', '功力', '一流', '他們', '各自', '發揮', '所長', '本著濟弱', '胸懷', '釣客', '變成', '魚界', '俠客', '多年', '功力', '幫助', '原生', '魚的後盾', '瑞老師', '保種', '不得', '不得已', '手段', '重要', '保護', '原有', '棲地', '如果', '大家', '做到', '需要', '動作'], ['回家', '原本', '自然', '不過', '可惜', '這些', '棲地', '遭到', '破壞', '魚來', '暫時', '回不去', '不過', '今年', '秋天', '部分', '少部分', '幸運兒', '一群', '幫助', '結束', '流落', '日子'], ['這裡', '中縣', '社鄉', '了解', '水患', '問題', '政府', '沿溪', '進行', '一連串', '整治', '工程', '棲地', '破壞', '魚蝦', '陸續', '失去', '食水', '溪成', '寂寞', '溪流', '封溪護', '告示', '告示牌', '成為', '一項', '大諷', '食水', '瀕臨', '滅絕', '台灣', '白魚', '族群', '數量', '一個', '原始', '棲地', '但是', '工程', '節節', '擔心', '白魚們', '小命', '不保', '2008', '春天', '大甲', '大甲溪', '生態', '協會', '白冷圳', '社造', '促進會', '發起', '救行動', '帶領', '社國', '朋友', '小朋友', '幫白魚', '搬家', '送往', '附近', '溼地', '庇護'], ['兩年', '過去', '當初', '白魚', '繁殖', '一千', '千多', '一千多', '上游', '部分', '棲地', '還沒有', '遭到', '工程', '破壞', '他們', '決定', '部分', '白魚', '回來', '特生', '中心', '動物組', '助理', '研究', '李德', '李德旺', '表示', '原來', '地方', '自然', '繁衍', '最好'], ['瀕臨', '滅絕', '白魚', '雖然', '去年', '列入', '二級', '保育', '諷刺', '政府', '僅存', '棲地', '任何', '保護', '措施', '這也', '大多', '保育', '魚類', '共同', '問題', '台灣', '原生', '魚類', '保育', '發起', '張元宏', '魚類', '列入', '保育', '這些', '棲地', '政府', '完整', '配套', '措施', '配套措施', '規劃', '管理', '民眾', '覺得物', '稀為', '這些', '棲地', '採集', '反而', '造成', '保育', '族群', '減少', '現在', '民間', '團體', '出力', '希望', '政府', '妥善', '保護棲地', '這才', '真正', '解決', '方法'], ['今年', '白魚', '回家', '其他', '原生', '什麼', '時候', '才能', '回家', '離鄉', '背井', '不得', '不得已', '做法', '無家', '最大', '悲哀', '地保', '護是', '環境', '生態', '基礎', '雖然民間', '團體', '積極', '保種', '如果', '相關', '單位', '重視', '只怕', '曾經', '擁抱', '溪流', '埤塘', '將會永遠', '失去', '這群', '相伴', '千年', '朋友', '老朋友'], []]\n",
            "21\n"
          ],
          "name": "stdout"
        }
      ]
    },
    {
      "cell_type": "code",
      "metadata": {
        "id": "0blLzJNbwz75",
        "colab_type": "code",
        "colab": {}
      },
      "source": [
        "num_words=0\n",
        "total_words=0\n",
        "for i in range(len(train)):\n",
        "  total_words= total_words+num_words\n",
        "  num_words=len(train[i])\n",
        "  print(\"第\",i,\"陣列\",num_words,\"個詞\")\n",
        "print(\"共\",total_words,\"個詞\")"
      ],
      "execution_count": 0,
      "outputs": []
    },
    {
      "cell_type": "code",
      "metadata": {
        "id": "0xU1U2Dfxnli",
        "colab_type": "code",
        "outputId": "f1a3e488-1564-46d0-9842-4ada01940aef",
        "colab": {
          "base_uri": "https://localhost:8080/",
          "height": 121
        }
      },
      "source": [
        "from gensim.corpora import Dictionary #用來為每個出現在文本中的單詞分配了一個獨一無二的整數編號\n",
        "from gensim.models import LdaModel\n",
        "\n",
        "word_id = corpora.Dictionary(train) #幫單詞分配編號\n",
        "print(word_id)\n",
        "\n",
        "article = [word_id.doc2bow(text) for text in train ]    #計算文檔段落中每個單詞出現的幾次，如： (0,1) 第一段落中編號為0的詞出現1次\n",
        "print(article)\n",
        "\n",
        "lda = LdaModel(corpus=article, id2word=word_id, num_topics=5)     #corpus：單詞詞數\n",
        "print(lda)\n",
        "\n",
        "lda.save(\"LDA_train.model\")"
      ],
      "execution_count": 0,
      "outputs": [
        {
          "output_type": "stream",
          "text": [
            "Dictionary(525 unique tokens: ['...', '一群', '不求', '他們', '入侵']...)\n",
            "[[(0, 1), (1, 1), (2, 1), (3, 1), (4, 1), (5, 1), (6, 1), (7, 1), (8, 1), (9, 1), (10, 1), (11, 1), (12, 1), (13, 1), (14, 1), (15, 1), (16, 1), (17, 1), (18, 1), (19, 1), (20, 1), (21, 1), (22, 1), (23, 1), (24, 1), (25, 1), (26, 1), (27, 1), (28, 1), (29, 1)], [(0, 2), (30, 1), (31, 1), (32, 2), (33, 1), (34, 1), (35, 1), (36, 1), (37, 1), (38, 1), (39, 1), (40, 1), (41, 1), (42, 1), (43, 1), (44, 1), (45, 1), (46, 1), (47, 1), (48, 1), (49, 1), (50, 1), (51, 1), (52, 2), (53, 1), (54, 1), (55, 2), (56, 1), (57, 1), (58, 1), (59, 2), (60, 1)], [(6, 1), (7, 1), (9, 1), (38, 1), (51, 1), (61, 1), (62, 1), (63, 1), (64, 1), (65, 1), (66, 1), (67, 3), (68, 3), (69, 1), (70, 1), (71, 1)], [(6, 1), (7, 1), (9, 1), (19, 2), (29, 1), (36, 2), (72, 1), (73, 1), (74, 2), (75, 1), (76, 1), (77, 1), (78, 1), (79, 1), (80, 1), (81, 1), (82, 2), (83, 1), (84, 1), (85, 1), (86, 1), (87, 1), (88, 1), (89, 1), (90, 1), (91, 1), (92, 1), (93, 1), (94, 1), (95, 1), (96, 1), (97, 1), (98, 1), (99, 1), (100, 1), (101, 1), (102, 1)], [(11, 1), (70, 1), (88, 1), (103, 1), (104, 1), (105, 1), (106, 1), (107, 1), (108, 1), (109, 1), (110, 1), (111, 1), (112, 1), (113, 1), (114, 1), (115, 1), (116, 1), (117, 1), (118, 1), (119, 1), (120, 1), (121, 1), (122, 1), (123, 1), (124, 1), (125, 1), (126, 1), (127, 1)], [(6, 1), (7, 1), (18, 1), (29, 1), (99, 1), (121, 1), (124, 1), (126, 1), (128, 1), (129, 1), (130, 1), (131, 1), (132, 1), (133, 1), (134, 1), (135, 1), (136, 1), (137, 1), (138, 1), (139, 1), (140, 1), (141, 1), (142, 1), (143, 2), (144, 1), (145, 1), (146, 1), (147, 1), (148, 1), (149, 1), (150, 2), (151, 1), (152, 1), (153, 1), (154, 2), (155, 1), (156, 1), (157, 1), (158, 1), (159, 1), (160, 1), (161, 1), (162, 1), (163, 1), (164, 1), (165, 1), (166, 1), (167, 1), (168, 1), (169, 1), (170, 1), (171, 1), (172, 1)], [(13, 1), (22, 1), (32, 1), (133, 1), (164, 1), (166, 1), (173, 1), (174, 1), (175, 1), (176, 1), (177, 2), (178, 1), (179, 1), (180, 1), (181, 1), (182, 1), (183, 2), (184, 1), (185, 1), (186, 1), (187, 1), (188, 1), (189, 1), (190, 1), (191, 1), (192, 1), (193, 1), (194, 1), (195, 1), (196, 1)], [(6, 1), (11, 1), (22, 1), (34, 1), (36, 1), (45, 1), (57, 1), (134, 1), (150, 1), (197, 1), (198, 1), (199, 1), (200, 1), (201, 1), (202, 1), (203, 1), (204, 1), (205, 1), (206, 1), (207, 1), (208, 1), (209, 1)], [(3, 1), (6, 1), (18, 1), (126, 1), (144, 1), (149, 1), (200, 1), (210, 1), (211, 1), (212, 1), (213, 1), (214, 1), (215, 1), (216, 1)], [(3, 2), (4, 2), (6, 1), (10, 2), (18, 1), (74, 2), (84, 1), (140, 1), (162, 1), (179, 1), (217, 1), (218, 1), (219, 1), (220, 1), (221, 1), (222, 1), (223, 1), (224, 1), (225, 1), (226, 1), (227, 1), (228, 1), (229, 1), (230, 1), (231, 1), (232, 1), (233, 1), (234, 1), (235, 1), (236, 1), (237, 3), (238, 1), (239, 1), (240, 1), (241, 1), (242, 1)], [(6, 2), (7, 1), (9, 3), (10, 1), (19, 1), (22, 2), (29, 1), (36, 1), (45, 1), (51, 1), (99, 1), (124, 1), (134, 1), (139, 1), (140, 1), (144, 1), (160, 1), (197, 1), (205, 1), (206, 1), (234, 1), (242, 1), (243, 1), (244, 1), (245, 1), (246, 1), (247, 1), (248, 1), (249, 1), (250, 1), (251, 1), (252, 1), (253, 1), (254, 1), (255, 1), (256, 1), (257, 1), (258, 1), (259, 1), (260, 1), (261, 1), (262, 1), (263, 2), (264, 1), (265, 1), (266, 1), (267, 1), (268, 1), (269, 1), (270, 1), (271, 1), (272, 1), (273, 1), (274, 1), (275, 2)], [(3, 1), (6, 2), (7, 1), (9, 1), (29, 2), (34, 1), (45, 2), (78, 2), (79, 1), (126, 1), (134, 1), (139, 1), (197, 1), (206, 1), (220, 1), (229, 1), (230, 1), (243, 1), (250, 1), (263, 1), (273, 1), (276, 2), (277, 1), (278, 1), (279, 1), (280, 1), (281, 1), (282, 1), (283, 1), (284, 1), (285, 1), (286, 1), (287, 1), (288, 1), (289, 1), (290, 1), (291, 1), (292, 1), (293, 1), (294, 1), (295, 1), (296, 1), (297, 1), (298, 1), (299, 1), (300, 1), (301, 1), (302, 1), (303, 1), (304, 1), (305, 1)], [(6, 1), (7, 1), (13, 1), (29, 1), (75, 1), (134, 1), (139, 1), (160, 1), (182, 1), (197, 3), (218, 2), (300, 1), (306, 1), (307, 1), (308, 1), (309, 1), (310, 1), (311, 1), (312, 1), (313, 1), (314, 1), (315, 4), (316, 4), (317, 1), (318, 1), (319, 1), (320, 1), (321, 1), (322, 1), (323, 1), (324, 1), (325, 1), (326, 1), (327, 1), (328, 1), (329, 1), (330, 1), (331, 1)], [(3, 1), (6, 1), (13, 2), (36, 1), (45, 1), (51, 1), (94, 1), (96, 1), (151, 1), (248, 1), (276, 2), (285, 1), (291, 1), (296, 1), (302, 1), (315, 1), (323, 1), (328, 1), (332, 1), (333, 1), (334, 1), (335, 1), (336, 1), (337, 1), (338, 1), (339, 1), (340, 1), (341, 1), (342, 1), (343, 2), (344, 1), (345, 1), (346, 1), (347, 1), (348, 1), (349, 1), (350, 1), (351, 1), (352, 1), (353, 1), (354, 1), (355, 1), (356, 1), (357, 1), (358, 1), (359, 1), (360, 1), (361, 1), (362, 1), (363, 1), (364, 1), (365, 2), (366, 1), (367, 1), (368, 1)], [(3, 1), (6, 2), (7, 1), (29, 1), (38, 1), (45, 1), (80, 1), (134, 1), (139, 1), (143, 1), (171, 1), (192, 1), (240, 1), (245, 1), (276, 1), (288, 1), (365, 1), (369, 1), (370, 1), (371, 1), (372, 1), (373, 1), (374, 2), (375, 1), (376, 1), (377, 1), (378, 1), (379, 1), (380, 1), (381, 2), (382, 1), (383, 1), (384, 1), (385, 1), (386, 1), (387, 1), (388, 1), (389, 1), (390, 1), (391, 1)], [(1, 1), (45, 1), (109, 1), (122, 1), (358, 1), (378, 1), (392, 2), (393, 1), (394, 1), (395, 1), (396, 1), (397, 1), (398, 1), (399, 1), (400, 1), (401, 1), (402, 1), (403, 1), (404, 1), (405, 1), (406, 1), (407, 1)], [(7, 1), (11, 1), (18, 1), (19, 1), (22, 1), (32, 1), (34, 1), (45, 2), (122, 1), (139, 1), (140, 1), (160, 1), (173, 1), (182, 1), (197, 1), (261, 1), (286, 1), (328, 1), (408, 1), (409, 1), (410, 1), (411, 1), (412, 1), (413, 1), (414, 1), (415, 1), (416, 1), (417, 1), (418, 1), (419, 1), (420, 1), (421, 1), (422, 1), (423, 2), (424, 1), (425, 1), (426, 1), (427, 1), (428, 1), (429, 1), (430, 1), (431, 1), (432, 1), (433, 1), (434, 1), (435, 1), (436, 1), (437, 1), (438, 1), (439, 1), (440, 1), (441, 1), (442, 1), (443, 1), (444, 1), (445, 1), (446, 1), (447, 1), (448, 1), (449, 1), (450, 2), (451, 1)], [(3, 1), (45, 1), (122, 1), (165, 1), (292, 1), (350, 1), (358, 1), (405, 1), (406, 2), (423, 1), (440, 2), (452, 1), (453, 1), (454, 1), (455, 1), (456, 1), (457, 1), (458, 1), (459, 1), (460, 1), (461, 1), (462, 1), (463, 1), (464, 1), (465, 1), (466, 1), (467, 1), (468, 1), (469, 1), (470, 1), (471, 1)], [(6, 1), (7, 1), (13, 1), (29, 3), (37, 1), (45, 3), (51, 1), (124, 1), (134, 5), (140, 1), (160, 1), (245, 1), (269, 1), (286, 3), (404, 2), (431, 1), (437, 1), (438, 1), (440, 1), (472, 1), (473, 1), (474, 1), (475, 1), (476, 1), (477, 1), (478, 2), (479, 1), (480, 1), (481, 1), (482, 1), (483, 1), (484, 1), (485, 1), (486, 2), (487, 1), (488, 1), (489, 1), (490, 1), (491, 1), (492, 1), (493, 1), (494, 1), (495, 1), (496, 1), (497, 1), (498, 1), (499, 1), (500, 1), (501, 1)], [(6, 1), (9, 1), (11, 1), (18, 1), (19, 1), (22, 1), (23, 1), (25, 1), (94, 1), (276, 1), (304, 1), (370, 1), (371, 1), (377, 1), (393, 1), (396, 2), (440, 1), (481, 1), (502, 1), (503, 1), (504, 1), (505, 1), (506, 1), (507, 1), (508, 1), (509, 1), (510, 1), (511, 1), (512, 1), (513, 1), (514, 1), (515, 1), (516, 1), (517, 1), (518, 1), (519, 1), (520, 1), (521, 1), (522, 1), (523, 1), (524, 1)], []]\n",
            "LdaModel(num_terms=525, num_topics=5, decay=0.5, chunksize=2000)\n"
          ],
          "name": "stdout"
        },
        {
          "output_type": "stream",
          "text": [
            "/usr/local/lib/python3.6/dist-packages/smart_open/smart_open_lib.py:402: UserWarning: This function is deprecated, use smart_open.open instead. See the migration notes for details: https://github.com/RaRe-Technologies/smart_open/blob/master/README.rst#migrating-to-the-new-open-function\n",
            "  'See the migration notes for details: %s' % _MIGRATION_NOTES_URL\n"
          ],
          "name": "stderr"
        }
      ]
    },
    {
      "cell_type": "code",
      "metadata": {
        "id": "6Z5xIMyi0GCz",
        "colab_type": "code",
        "outputId": "d84d6cb6-8c23-4237-eb0f-4fcab4d63db6",
        "colab": {
          "base_uri": "https://localhost:8080/",
          "height": 70
        }
      },
      "source": [
        "load_model=LdaModel.load(\"LDA_train.model\")"
      ],
      "execution_count": 0,
      "outputs": [
        {
          "output_type": "stream",
          "text": [
            "/usr/local/lib/python3.6/dist-packages/smart_open/smart_open_lib.py:402: UserWarning: This function is deprecated, use smart_open.open instead. See the migration notes for details: https://github.com/RaRe-Technologies/smart_open/blob/master/README.rst#migrating-to-the-new-open-function\n",
            "  'See the migration notes for details: %s' % _MIGRATION_NOTES_URL\n"
          ],
          "name": "stderr"
        }
      ]
    },
    {
      "cell_type": "code",
      "metadata": {
        "id": "j15OnA9s4zqE",
        "colab_type": "code",
        "outputId": "7e253230-f773-4417-868d-26218689227c",
        "colab": {
          "base_uri": "https://localhost:8080/",
          "height": 185
        }
      },
      "source": [
        "for idx,topic in load_model.print_topics(-1):\n",
        "  print('Topic: {} \\nWords: {}'.format(idx,topic))  #該主題中出現的詞語及其相對權重。"
      ],
      "execution_count": 0,
      "outputs": [
        {
          "output_type": "stream",
          "text": [
            "Topic: 0 \n",
            "Words: 0.011*\"台灣\" + 0.010*\"原生\" + 0.010*\"魚類\" + 0.009*\"一個\" + 0.008*\"白魚\" + 0.007*\"保育\" + 0.007*\"土地\" + 0.007*\"發起\" + 0.007*\"棲地\" + 0.007*\"但是\"\n",
            "Topic: 1 \n",
            "Words: 0.016*\"原生\" + 0.011*\"埤塘\" + 0.010*\"生態\" + 0.008*\"目前\" + 0.008*\"協會\" + 0.007*\"保育\" + 0.007*\"保護\" + 0.007*\"棲地\" + 0.007*\"魚種\" + 0.007*\"台灣\"\n",
            "Topic: 2 \n",
            "Words: 0.015*\"原生\" + 0.015*\"保育\" + 0.013*\"棲地\" + 0.012*\"因為\" + 0.010*\"有魚\" + 0.010*\"水中\" + 0.009*\"台灣\" + 0.009*\"埤塘\" + 0.008*\"魚類\" + 0.008*\"希望\"\n",
            "Topic: 3 \n",
            "Words: 0.015*\"原生\" + 0.011*\"棲地\" + 0.011*\"魚類\" + 0.009*\"保育\" + 0.008*\"土地公\" + 0.008*\"他們\" + 0.008*\"土地\" + 0.008*\"台灣\" + 0.008*\"不過\" + 0.007*\"魚的\"\n",
            "Topic: 4 \n",
            "Words: 0.016*\"棲地\" + 0.012*\"原生\" + 0.010*\"他們\" + 0.010*\"保種\" + 0.009*\"朋友\" + 0.008*\"魚類\" + 0.008*\"調查\" + 0.008*\"生態\" + 0.007*\"埤塘\" + 0.007*\"政府\"\n"
          ],
          "name": "stdout"
        }
      ]
    },
    {
      "cell_type": "code",
      "metadata": {
        "id": "FfT-NGi8yNnN",
        "colab_type": "code",
        "outputId": "943fc644-c75d-4113-b6dc-87fb86832553",
        "colab": {
          "resources": {
            "http://localhost:8080/nbextensions/google.colab/files.js": {
              "data": "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",
              "ok": true,
              "headers": [
                [
                  "content-type",
                  "application/javascript"
                ]
              ],
              "status": 200,
              "status_text": ""
            }
          },
          "base_uri": "https://localhost:8080/",
          "height": 74
        }
      },
      "source": [
        "from google.colab import files\n",
        "\n",
        "uploaded = files.upload()\n",
        "#隨便一個空白文件"
      ],
      "execution_count": 0,
      "outputs": [
        {
          "output_type": "display_data",
          "data": {
            "text/html": [
              "\n",
              "     <input type=\"file\" id=\"files-6a3e1da3-d2bd-4eab-990e-5409bf46e08d\" name=\"files[]\" multiple disabled />\n",
              "     <output id=\"result-6a3e1da3-d2bd-4eab-990e-5409bf46e08d\">\n",
              "      Upload widget is only available when the cell has been executed in the\n",
              "      current browser session. Please rerun this cell to enable.\n",
              "      </output>\n",
              "      <script src=\"/nbextensions/google.colab/files.js\"></script> "
            ],
            "text/plain": [
              "<IPython.core.display.HTML object>"
            ]
          },
          "metadata": {
            "tags": []
          }
        },
        {
          "output_type": "stream",
          "text": [
            "Saving 文本2.txt to 文本2 (2).txt\n"
          ],
          "name": "stdout"
        }
      ]
    },
    {
      "cell_type": "code",
      "metadata": {
        "id": "Fezc5Q5jBlq_",
        "colab_type": "code",
        "colab": {}
      },
      "source": [
        "with open(\"文本2.txt\",\"w+\",encoding=\"UTF-8\") as f:\n",
        "  for ids, words in load_model.print_topics(5):\n",
        "    f.write(words)"
      ],
      "execution_count": 0,
      "outputs": []
    },
    {
      "cell_type": "code",
      "metadata": {
        "id": "LXWXUUXqzkvn",
        "colab_type": "code",
        "outputId": "1237becf-0b17-4c55-d898-02ef2018e174",
        "colab": {
          "base_uri": "https://localhost:8080/",
          "height": 54
        }
      },
      "source": [
        "result=open(\"文本2.txt\",\"r\",encoding=\"UTF-8\").read()\n",
        "print(result)"
      ],
      "execution_count": 0,
      "outputs": [
        {
          "output_type": "stream",
          "text": [
            "0.011*\"海洋\" + 0.006*\"廢棄物\" + 0.005*\"高盛\" + 0.005*\"美元\" + 0.005*\"報價\" + 0.004*\"顯示\" + 0.004*\"XLE\" + 0.004*\"SPDR\" + 0.004*\"組織\" + 0.004*\"今年\"0.015*\"11\" + 0.014*\"月份\" + 0.010*\"JGB\" + 0.009*\"500\" + 0.009*\"億日圓\" + 0.008*\"000\" + 0.008*\"以上\" + 0.007*\"台北\" + 0.006*\"10\" + 0.006*\"表示\"0.008*\"發展\" + 0.007*\"創新\" + 0.006*\"表示\" + 0.005*\"海岸\" + 0.005*\"社會\" + 0.005*\"大家\" + 0.004*\"透過\" + 0.004*\"今年\" + 0.004*\"企業\" + 0.004*\"哈哈\"0.014*\"海洋\" + 0.010*\"能源\" + 0.009*\"廢棄物\" + 0.007*\"今年\" + 0.006*\"美元\" + 0.006*\"市值\" + 0.005*\"富豪\" + 0.005*\"目前\" + 0.005*\"2020\" + 0.004*\"海廢\"0.009*\"利率\" + 0.009*\"高盛\" + 0.007*\"表示\" + 0.007*\"海洋\" + 0.006*\"JGB\" + 0.006*\"管理\" + 0.006*\"財富\" + 0.005*\"客戶\" + 0.005*\"投資\" + 0.004*\"美元\"\n"
          ],
          "name": "stdout"
        }
      ]
    },
    {
      "cell_type": "code",
      "metadata": {
        "id": "z_INEtkn2xBe",
        "colab_type": "code",
        "outputId": "11417357-0a85-4135-c0ed-71d9918bf115",
        "colab": {
          "base_uri": "https://localhost:8080/",
          "height": 54
        }
      },
      "source": [
        "r0=result.replace(\"0\",\"\")\n",
        "r1=r0.replace(\"1\",\"\")\n",
        "r2=r1.replace(\"2\",\"\")\n",
        "r3=r2.replace(\"3\",\"\")\n",
        "r4=r3.replace(\"4\",\"\")\n",
        "r5=r4.replace(\"5\",\"\")\n",
        "r6=r5.replace(\"6\",\"\")\n",
        "r7=r6.replace(\"7\",\"\")\n",
        "r8=r7.replace(\"8\",\"\")\n",
        "print(r8)"
      ],
      "execution_count": 0,
      "outputs": [
        {
          "output_type": "stream",
          "text": [
            ".*\"海洋\" + .*\"廢棄物\" + .*\"高盛\" + .*\"美元\" + .*\"報價\" + .*\"顯示\" + .*\"XLE\" + .*\"SPDR\" + .*\"組織\" + .*\"今年\".*\"\" + .*\"月份\" + .*\"JGB\" + .9*\"\" + .9*\"億日圓\" + .*\"\" + .*\"以上\" + .*\"台北\" + .*\"\" + .*\"表示\".*\"發展\" + .*\"創新\" + .*\"表示\" + .*\"海岸\" + .*\"社會\" + .*\"大家\" + .*\"透過\" + .*\"今年\" + .*\"企業\" + .*\"哈哈\".*\"海洋\" + .*\"能源\" + .9*\"廢棄物\" + .*\"今年\" + .*\"美元\" + .*\"市值\" + .*\"富豪\" + .*\"目前\" + .*\"\" + .*\"海廢\".9*\"利率\" + .9*\"高盛\" + .*\"表示\" + .*\"海洋\" + .*\"JGB\" + .*\"管理\" + .*\"財富\" + .*\"客戶\" + .*\"投資\" + .*\"美元\"\n"
          ],
          "name": "stdout"
        }
      ]
    },
    {
      "cell_type": "code",
      "metadata": {
        "id": "lJeLeZA39Apk",
        "colab_type": "code",
        "outputId": "fe67f82d-60c5-40d1-f5ce-53483401940d",
        "colab": {
          "base_uri": "https://localhost:8080/",
          "height": 34
        }
      },
      "source": [
        "import jieba.analyse\n",
        "\n",
        "keywords_top=jieba.analyse.extract_tags(r8,topK=10)\n",
        "print('主題關鍵詞：'+\"/\".join(keywords_top))"
      ],
      "execution_count": 0,
      "outputs": [
        {
          "output_type": "stream",
          "text": [
            "主題關鍵詞：上揚/廢棄物/跨年/海洋/高盛/今年/能源/點至/JGB/桃園\n"
          ],
          "name": "stdout"
        }
      ]
    },
    {
      "cell_type": "code",
      "metadata": {
        "id": "E8pldfTN008F",
        "colab_type": "code",
        "outputId": "11f7d864-9a0d-4197-a8e5-e679d033cd0c",
        "colab": {
          "base_uri": "https://localhost:8080/",
          "height": 202
        }
      },
      "source": [
        "from collections import Counter\n",
        "\n",
        "def get_tags(str):\n",
        "  seg_list = jieba.cut(str)\n",
        "  c = Counter()\n",
        "  for x in seg_list:\n",
        "    if len(x)>1:\n",
        "      c[x]+=1\n",
        "  print('主題關鍵詞出現次數排名：')\n",
        "  for (word,num) in c.most_common(10):\n",
        "    print('%s  %d' % (word,num))\n",
        "\n",
        "get_tags(r8)"
      ],
      "execution_count": 0,
      "outputs": [
        {
          "output_type": "stream",
          "text": [
            "主題關鍵詞出現次數排名：\n",
            "今年  3\n",
            "海洋  3\n",
            "表示  3\n",
            "跨年  2\n",
            "利率  2\n",
            "上揚  2\n",
            "高盛  2\n",
            "廢棄物  2\n",
            "美元  2\n",
            "月份  2\n"
          ],
          "name": "stdout"
        }
      ]
    }
  ]
}